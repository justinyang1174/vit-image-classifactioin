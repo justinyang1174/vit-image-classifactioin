{
 "cells": [
  {
   "cell_type": "code",
   "execution_count": 1,
   "id": "8feba9b3-4ada-49e9-a28f-42ead009b5a4",
   "metadata": {},
   "outputs": [
    {
     "name": "stderr",
     "output_type": "stream",
     "text": [
      "Some weights of ViTForImageClassification were not initialized from the model checkpoint at google/vit-base-patch16-224 and are newly initialized because the shapes did not match:\n",
      "- classifier.bias: found shape torch.Size([1000]) in the checkpoint and torch.Size([2]) in the model instantiated\n",
      "- classifier.weight: found shape torch.Size([1000, 768]) in the checkpoint and torch.Size([2, 768]) in the model instantiated\n",
      "You should probably TRAIN this model on a down-stream task to be able to use it for predictions and inference.\n",
      "Epoch 1/100 - Training: 100%|████████████████████████████████████████████████████████| 500/500 [09:24<00:00,  1.13s/it]\n",
      "Epoch 1/100 - Validation: 100%|████████████████████████████████████████████████████████| 63/63 [00:29<00:00,  2.13it/s]\n"
     ]
    },
    {
     "name": "stdout",
     "output_type": "stream",
     "text": [
      "\n",
      "Best model saved with validation accuracy: 0.9260\n",
      "Epoch : 1 - train_loss : 23.9294 - train_acc: 0.8564 - val_loss : 0.2252 - val_acc: 0.9260\n",
      "Validation Metrics: Precision: 0.9268, Recall: 0.9260, F1-Score: 0.9260\n",
      "\n"
     ]
    },
    {
     "name": "stderr",
     "output_type": "stream",
     "text": [
      "Epoch 2/100 - Training: 100%|████████████████████████████████████████████████████████| 500/500 [08:32<00:00,  1.03s/it]\n",
      "Epoch 2/100 - Validation: 100%|████████████████████████████████████████████████████████| 63/63 [00:29<00:00,  2.13it/s]\n"
     ]
    },
    {
     "name": "stdout",
     "output_type": "stream",
     "text": [
      "\n",
      "Best model saved with validation accuracy: 0.9560\n",
      "Epoch : 2 - train_loss : 22.7334 - train_acc: 0.9586 - val_loss : 0.1376 - val_acc: 0.9560\n",
      "Validation Metrics: Precision: 0.9560, Recall: 0.9560, F1-Score: 0.9560\n",
      "\n"
     ]
    },
    {
     "name": "stderr",
     "output_type": "stream",
     "text": [
      "Epoch 3/100 - Training: 100%|████████████████████████████████████████████████████████| 500/500 [08:28<00:00,  1.02s/it]\n",
      "Epoch 3/100 - Validation: 100%|████████████████████████████████████████████████████████| 63/63 [00:29<00:00,  2.15it/s]\n"
     ]
    },
    {
     "name": "stdout",
     "output_type": "stream",
     "text": [
      "\n",
      "Best model saved with validation accuracy: 0.9670\n",
      "Epoch : 3 - train_loss : 21.3265 - train_acc: 0.9721 - val_loss : 0.1057 - val_acc: 0.9670\n",
      "Validation Metrics: Precision: 0.9670, Recall: 0.9670, F1-Score: 0.9670\n",
      "\n"
     ]
    },
    {
     "name": "stderr",
     "output_type": "stream",
     "text": [
      "Epoch 4/100 - Training: 100%|████████████████████████████████████████████████████████| 500/500 [08:31<00:00,  1.02s/it]\n",
      "Epoch 4/100 - Validation: 100%|████████████████████████████████████████████████████████| 63/63 [00:29<00:00,  2.14it/s]\n"
     ]
    },
    {
     "name": "stdout",
     "output_type": "stream",
     "text": [
      "Epoch : 4 - train_loss : 19.4491 - train_acc: 0.9790 - val_loss : 0.1132 - val_acc: 0.9550\n",
      "Validation Metrics: Precision: 0.9561, Recall: 0.9550, F1-Score: 0.9550\n",
      "\n"
     ]
    },
    {
     "name": "stderr",
     "output_type": "stream",
     "text": [
      "Epoch 5/100 - Training: 100%|████████████████████████████████████████████████████████| 500/500 [08:29<00:00,  1.02s/it]\n",
      "Epoch 5/100 - Validation: 100%|████████████████████████████████████████████████████████| 63/63 [00:29<00:00,  2.15it/s]\n"
     ]
    },
    {
     "name": "stdout",
     "output_type": "stream",
     "text": [
      "\n",
      "Best model saved with validation accuracy: 0.9750\n",
      "Epoch : 5 - train_loss : 17.0127 - train_acc: 0.9811 - val_loss : 0.0711 - val_acc: 0.9750\n",
      "Validation Metrics: Precision: 0.9752, Recall: 0.9750, F1-Score: 0.9750\n",
      "\n"
     ]
    },
    {
     "name": "stderr",
     "output_type": "stream",
     "text": [
      "Epoch 6/100 - Training: 100%|████████████████████████████████████████████████████████| 500/500 [08:31<00:00,  1.02s/it]\n",
      "Epoch 6/100 - Validation: 100%|████████████████████████████████████████████████████████| 63/63 [00:29<00:00,  2.14it/s]\n"
     ]
    },
    {
     "name": "stdout",
     "output_type": "stream",
     "text": [
      "\n",
      "Best model saved with validation accuracy: 0.9830\n",
      "Epoch : 6 - train_loss : 14.0414 - train_acc: 0.9857 - val_loss : 0.0484 - val_acc: 0.9830\n",
      "Validation Metrics: Precision: 0.9830, Recall: 0.9830, F1-Score: 0.9830\n",
      "\n"
     ]
    },
    {
     "name": "stderr",
     "output_type": "stream",
     "text": [
      "Epoch 7/100 - Training: 100%|████████████████████████████████████████████████████████| 500/500 [08:29<00:00,  1.02s/it]\n",
      "Epoch 7/100 - Validation: 100%|████████████████████████████████████████████████████████| 63/63 [00:29<00:00,  2.14it/s]\n"
     ]
    },
    {
     "name": "stdout",
     "output_type": "stream",
     "text": [
      "\n",
      "Best model saved with validation accuracy: 0.9910\n",
      "Epoch : 7 - train_loss : 10.7457 - train_acc: 0.9862 - val_loss : 0.0338 - val_acc: 0.9910\n",
      "Validation Metrics: Precision: 0.9910, Recall: 0.9910, F1-Score: 0.9910\n",
      "\n"
     ]
    },
    {
     "name": "stderr",
     "output_type": "stream",
     "text": [
      "Epoch 8/100 - Training: 100%|████████████████████████████████████████████████████████| 500/500 [08:30<00:00,  1.02s/it]\n",
      "Epoch 8/100 - Validation: 100%|████████████████████████████████████████████████████████| 63/63 [00:29<00:00,  2.14it/s]\n"
     ]
    },
    {
     "name": "stdout",
     "output_type": "stream",
     "text": [
      "Epoch : 8 - train_loss : 7.5520 - train_acc: 0.9870 - val_loss : 0.0371 - val_acc: 0.9880\n",
      "Validation Metrics: Precision: 0.9882, Recall: 0.9880, F1-Score: 0.9880\n",
      "\n"
     ]
    },
    {
     "name": "stderr",
     "output_type": "stream",
     "text": [
      "Epoch 9/100 - Training: 100%|████████████████████████████████████████████████████████| 500/500 [08:28<00:00,  1.02s/it]\n",
      "Epoch 9/100 - Validation: 100%|████████████████████████████████████████████████████████| 63/63 [00:29<00:00,  2.14it/s]\n"
     ]
    },
    {
     "name": "stdout",
     "output_type": "stream",
     "text": [
      "Epoch : 9 - train_loss : 4.9352 - train_acc: 0.9864 - val_loss : 0.0567 - val_acc: 0.9830\n",
      "Validation Metrics: Precision: 0.9833, Recall: 0.9830, F1-Score: 0.9830\n",
      "\n"
     ]
    },
    {
     "name": "stderr",
     "output_type": "stream",
     "text": [
      "Epoch 10/100 - Training: 100%|███████████████████████████████████████████████████████| 500/500 [08:30<00:00,  1.02s/it]\n",
      "Epoch 10/100 - Validation: 100%|███████████████████████████████████████████████████████| 63/63 [00:29<00:00,  2.14it/s]\n"
     ]
    },
    {
     "name": "stdout",
     "output_type": "stream",
     "text": [
      "Epoch : 10 - train_loss : 3.2234 - train_acc: 0.9865 - val_loss : 0.0588 - val_acc: 0.9830\n",
      "Validation Metrics: Precision: 0.9832, Recall: 0.9830, F1-Score: 0.9830\n",
      "\n"
     ]
    },
    {
     "name": "stderr",
     "output_type": "stream",
     "text": [
      "Epoch 11/100 - Training: 100%|███████████████████████████████████████████████████████| 500/500 [08:28<00:00,  1.02s/it]\n",
      "Epoch 11/100 - Validation: 100%|███████████████████████████████████████████████████████| 63/63 [00:29<00:00,  2.14it/s]\n"
     ]
    },
    {
     "name": "stdout",
     "output_type": "stream",
     "text": [
      "Epoch : 11 - train_loss : 2.3468 - train_acc: 0.9854 - val_loss : 0.0591 - val_acc: 0.9790\n",
      "Validation Metrics: Precision: 0.9790, Recall: 0.9790, F1-Score: 0.9790\n",
      "\n"
     ]
    },
    {
     "name": "stderr",
     "output_type": "stream",
     "text": [
      "Epoch 12/100 - Training: 100%|███████████████████████████████████████████████████████| 500/500 [08:28<00:00,  1.02s/it]\n",
      "Epoch 12/100 - Validation: 100%|███████████████████████████████████████████████████████| 63/63 [00:29<00:00,  2.15it/s]\n"
     ]
    },
    {
     "name": "stdout",
     "output_type": "stream",
     "text": [
      "Epoch : 12 - train_loss : 1.9637 - train_acc: 0.9807 - val_loss : 0.0704 - val_acc: 0.9760\n",
      "Validation Metrics: Precision: 0.9771, Recall: 0.9760, F1-Score: 0.9760\n",
      "\n"
     ]
    },
    {
     "name": "stderr",
     "output_type": "stream",
     "text": [
      "Epoch 13/100 - Training: 100%|███████████████████████████████████████████████████████| 500/500 [08:31<00:00,  1.02s/it]\n",
      "Epoch 13/100 - Validation: 100%|███████████████████████████████████████████████████████| 63/63 [00:29<00:00,  2.14it/s]\n"
     ]
    },
    {
     "name": "stdout",
     "output_type": "stream",
     "text": [
      "Epoch : 13 - train_loss : 1.8081 - train_acc: 0.9814 - val_loss : 0.0387 - val_acc: 0.9860\n",
      "Validation Metrics: Precision: 0.9861, Recall: 0.9860, F1-Score: 0.9860\n",
      "\n"
     ]
    },
    {
     "name": "stderr",
     "output_type": "stream",
     "text": [
      "Epoch 14/100 - Training: 100%|███████████████████████████████████████████████████████| 500/500 [08:29<00:00,  1.02s/it]\n",
      "Epoch 14/100 - Validation: 100%|███████████████████████████████████████████████████████| 63/63 [00:29<00:00,  2.14it/s]\n"
     ]
    },
    {
     "name": "stdout",
     "output_type": "stream",
     "text": [
      "Epoch : 14 - train_loss : 1.7064 - train_acc: 0.9819 - val_loss : 0.3590 - val_acc: 0.8350\n",
      "Validation Metrics: Precision: 0.8759, Recall: 0.8350, F1-Score: 0.8304\n",
      "\n"
     ]
    },
    {
     "name": "stderr",
     "output_type": "stream",
     "text": [
      "Epoch 15/100 - Training: 100%|███████████████████████████████████████████████████████| 500/500 [08:30<00:00,  1.02s/it]\n",
      "Epoch 15/100 - Validation: 100%|███████████████████████████████████████████████████████| 63/63 [00:29<00:00,  2.15it/s]\n"
     ]
    },
    {
     "name": "stdout",
     "output_type": "stream",
     "text": [
      "Epoch : 15 - train_loss : 1.6397 - train_acc: 0.9822 - val_loss : 0.0671 - val_acc: 0.9790\n",
      "Validation Metrics: Precision: 0.9794, Recall: 0.9790, F1-Score: 0.9790\n",
      "\n"
     ]
    },
    {
     "name": "stderr",
     "output_type": "stream",
     "text": [
      "Epoch 16/100 - Training: 100%|███████████████████████████████████████████████████████| 500/500 [08:31<00:00,  1.02s/it]\n",
      "Epoch 16/100 - Validation: 100%|███████████████████████████████████████████████████████| 63/63 [00:29<00:00,  2.14it/s]\n"
     ]
    },
    {
     "name": "stdout",
     "output_type": "stream",
     "text": [
      "Epoch : 16 - train_loss : 1.5926 - train_acc: 0.9854 - val_loss : 0.0490 - val_acc: 0.9870\n",
      "Validation Metrics: Precision: 0.9870, Recall: 0.9870, F1-Score: 0.9870\n",
      "\n"
     ]
    },
    {
     "name": "stderr",
     "output_type": "stream",
     "text": [
      "Epoch 17/100 - Training: 100%|███████████████████████████████████████████████████████| 500/500 [08:33<00:00,  1.03s/it]\n",
      "Epoch 17/100 - Validation: 100%|███████████████████████████████████████████████████████| 63/63 [00:29<00:00,  2.16it/s]\n"
     ]
    },
    {
     "name": "stdout",
     "output_type": "stream",
     "text": [
      "Epoch : 17 - train_loss : 1.6292 - train_acc: 0.9810 - val_loss : 0.0583 - val_acc: 0.9860\n",
      "Validation Metrics: Precision: 0.9860, Recall: 0.9860, F1-Score: 0.9860\n",
      "\n"
     ]
    },
    {
     "name": "stderr",
     "output_type": "stream",
     "text": [
      "Epoch 18/100 - Training: 100%|███████████████████████████████████████████████████████| 500/500 [08:25<00:00,  1.01s/it]\n",
      "Epoch 18/100 - Validation: 100%|███████████████████████████████████████████████████████| 63/63 [00:29<00:00,  2.15it/s]\n"
     ]
    },
    {
     "name": "stdout",
     "output_type": "stream",
     "text": [
      "Epoch : 18 - train_loss : 1.5201 - train_acc: 0.9796 - val_loss : 0.0907 - val_acc: 0.9830\n",
      "Validation Metrics: Precision: 0.9834, Recall: 0.9830, F1-Score: 0.9830\n",
      "\n"
     ]
    },
    {
     "name": "stderr",
     "output_type": "stream",
     "text": [
      "Epoch 19/100 - Training: 100%|███████████████████████████████████████████████████████| 500/500 [08:33<00:00,  1.03s/it]\n",
      "Epoch 19/100 - Validation: 100%|███████████████████████████████████████████████████████| 63/63 [00:29<00:00,  2.14it/s]\n"
     ]
    },
    {
     "name": "stdout",
     "output_type": "stream",
     "text": [
      "Epoch : 19 - train_loss : 1.5074 - train_acc: 0.9757 - val_loss : 0.0478 - val_acc: 0.9890\n",
      "Validation Metrics: Precision: 0.9890, Recall: 0.9890, F1-Score: 0.9890\n",
      "\n"
     ]
    },
    {
     "name": "stderr",
     "output_type": "stream",
     "text": [
      "Epoch 20/100 - Training: 100%|███████████████████████████████████████████████████████| 500/500 [08:30<00:00,  1.02s/it]\n",
      "Epoch 20/100 - Validation: 100%|███████████████████████████████████████████████████████| 63/63 [00:29<00:00,  2.14it/s]\n"
     ]
    },
    {
     "name": "stdout",
     "output_type": "stream",
     "text": [
      "Epoch : 20 - train_loss : 1.4438 - train_acc: 0.9802 - val_loss : 0.0640 - val_acc: 0.9780\n",
      "Validation Metrics: Precision: 0.9788, Recall: 0.9780, F1-Score: 0.9780\n",
      "\n"
     ]
    },
    {
     "name": "stderr",
     "output_type": "stream",
     "text": [
      "Epoch 21/100 - Training: 100%|███████████████████████████████████████████████████████| 500/500 [08:29<00:00,  1.02s/it]\n",
      "Epoch 21/100 - Validation: 100%|███████████████████████████████████████████████████████| 63/63 [00:29<00:00,  2.14it/s]\n"
     ]
    },
    {
     "name": "stdout",
     "output_type": "stream",
     "text": [
      "Epoch : 21 - train_loss : 1.3615 - train_acc: 0.9817 - val_loss : 0.0547 - val_acc: 0.9720\n",
      "Validation Metrics: Precision: 0.9733, Recall: 0.9720, F1-Score: 0.9720\n",
      "\n"
     ]
    },
    {
     "name": "stderr",
     "output_type": "stream",
     "text": [
      "Epoch 22/100 - Training: 100%|███████████████████████████████████████████████████████| 500/500 [08:32<00:00,  1.02s/it]\n",
      "Epoch 22/100 - Validation: 100%|███████████████████████████████████████████████████████| 63/63 [00:29<00:00,  2.14it/s]\n"
     ]
    },
    {
     "name": "stdout",
     "output_type": "stream",
     "text": [
      "Epoch : 22 - train_loss : 1.2916 - train_acc: 0.9832 - val_loss : 0.0843 - val_acc: 0.9900\n",
      "Validation Metrics: Precision: 0.9900, Recall: 0.9900, F1-Score: 0.9900\n",
      "\n"
     ]
    },
    {
     "name": "stderr",
     "output_type": "stream",
     "text": [
      "Epoch 23/100 - Training: 100%|███████████████████████████████████████████████████████| 500/500 [08:33<00:00,  1.03s/it]\n",
      "Epoch 23/100 - Validation: 100%|███████████████████████████████████████████████████████| 63/63 [00:29<00:00,  2.16it/s]\n"
     ]
    },
    {
     "name": "stdout",
     "output_type": "stream",
     "text": [
      "Epoch : 23 - train_loss : 1.2365 - train_acc: 0.9826 - val_loss : 0.0710 - val_acc: 0.9720\n",
      "Validation Metrics: Precision: 0.9725, Recall: 0.9720, F1-Score: 0.9720\n",
      "\n"
     ]
    },
    {
     "name": "stderr",
     "output_type": "stream",
     "text": [
      "Epoch 24/100 - Training: 100%|███████████████████████████████████████████████████████| 500/500 [08:32<00:00,  1.03s/it]\n",
      "Epoch 24/100 - Validation: 100%|███████████████████████████████████████████████████████| 63/63 [00:29<00:00,  2.14it/s]\n"
     ]
    },
    {
     "name": "stdout",
     "output_type": "stream",
     "text": [
      "Epoch : 24 - train_loss : 1.1859 - train_acc: 0.9784 - val_loss : 0.0675 - val_acc: 0.9760\n",
      "Validation Metrics: Precision: 0.9764, Recall: 0.9760, F1-Score: 0.9760\n",
      "\n"
     ]
    },
    {
     "name": "stderr",
     "output_type": "stream",
     "text": [
      "Epoch 25/100 - Training: 100%|███████████████████████████████████████████████████████| 500/500 [08:34<00:00,  1.03s/it]\n",
      "Epoch 25/100 - Validation: 100%|███████████████████████████████████████████████████████| 63/63 [00:29<00:00,  2.15it/s]\n"
     ]
    },
    {
     "name": "stdout",
     "output_type": "stream",
     "text": [
      "Epoch : 25 - train_loss : 1.0891 - train_acc: 0.9831 - val_loss : 0.0557 - val_acc: 0.9860\n",
      "Validation Metrics: Precision: 0.9861, Recall: 0.9860, F1-Score: 0.9860\n",
      "\n"
     ]
    },
    {
     "name": "stderr",
     "output_type": "stream",
     "text": [
      "Epoch 26/100 - Training: 100%|███████████████████████████████████████████████████████| 500/500 [08:32<00:00,  1.03s/it]\n",
      "Epoch 26/100 - Validation: 100%|███████████████████████████████████████████████████████| 63/63 [00:29<00:00,  2.15it/s]\n"
     ]
    },
    {
     "name": "stdout",
     "output_type": "stream",
     "text": [
      "Epoch : 26 - train_loss : 1.0280 - train_acc: 0.9821 - val_loss : 0.1055 - val_acc: 0.9570\n",
      "Validation Metrics: Precision: 0.9601, Recall: 0.9570, F1-Score: 0.9569\n",
      "\n"
     ]
    },
    {
     "name": "stderr",
     "output_type": "stream",
     "text": [
      "Epoch 27/100 - Training: 100%|███████████████████████████████████████████████████████| 500/500 [08:32<00:00,  1.02s/it]\n",
      "Epoch 27/100 - Validation: 100%|███████████████████████████████████████████████████████| 63/63 [00:29<00:00,  2.14it/s]\n"
     ]
    },
    {
     "name": "stdout",
     "output_type": "stream",
     "text": [
      "Epoch : 27 - train_loss : 1.0232 - train_acc: 0.9677 - val_loss : 0.1256 - val_acc: 0.9630\n",
      "Validation Metrics: Precision: 0.9646, Recall: 0.9630, F1-Score: 0.9630\n",
      "\n"
     ]
    },
    {
     "name": "stderr",
     "output_type": "stream",
     "text": [
      "Epoch 28/100 - Training: 100%|███████████████████████████████████████████████████████| 500/500 [08:32<00:00,  1.02s/it]\n",
      "Epoch 28/100 - Validation: 100%|███████████████████████████████████████████████████████| 63/63 [00:29<00:00,  2.15it/s]\n"
     ]
    },
    {
     "name": "stdout",
     "output_type": "stream",
     "text": [
      "Epoch : 28 - train_loss : 0.9822 - train_acc: 0.9745 - val_loss : 0.1195 - val_acc: 0.9710\n",
      "Validation Metrics: Precision: 0.9714, Recall: 0.9710, F1-Score: 0.9710\n",
      "\n"
     ]
    },
    {
     "name": "stderr",
     "output_type": "stream",
     "text": [
      "Epoch 29/100 - Training: 100%|███████████████████████████████████████████████████████| 500/500 [08:32<00:00,  1.03s/it]\n",
      "Epoch 29/100 - Validation: 100%|███████████████████████████████████████████████████████| 63/63 [00:29<00:00,  2.14it/s]\n"
     ]
    },
    {
     "name": "stdout",
     "output_type": "stream",
     "text": [
      "Epoch : 29 - train_loss : 0.9620 - train_acc: 0.9802 - val_loss : 0.0674 - val_acc: 0.9730\n",
      "Validation Metrics: Precision: 0.9738, Recall: 0.9730, F1-Score: 0.9730\n",
      "\n"
     ]
    },
    {
     "name": "stderr",
     "output_type": "stream",
     "text": [
      "Epoch 30/100 - Training: 100%|███████████████████████████████████████████████████████| 500/500 [08:32<00:00,  1.02s/it]\n",
      "Epoch 30/100 - Validation: 100%|███████████████████████████████████████████████████████| 63/63 [00:29<00:00,  2.15it/s]\n"
     ]
    },
    {
     "name": "stdout",
     "output_type": "stream",
     "text": [
      "Epoch : 30 - train_loss : 0.7830 - train_acc: 0.9771 - val_loss : 0.2151 - val_acc: 0.8890\n",
      "Validation Metrics: Precision: 0.9092, Recall: 0.8890, F1-Score: 0.8876\n",
      "\n"
     ]
    },
    {
     "name": "stderr",
     "output_type": "stream",
     "text": [
      "Epoch 31/100 - Training: 100%|███████████████████████████████████████████████████████| 500/500 [08:33<00:00,  1.03s/it]\n",
      "Epoch 31/100 - Validation: 100%|███████████████████████████████████████████████████████| 63/63 [00:29<00:00,  2.14it/s]\n"
     ]
    },
    {
     "name": "stdout",
     "output_type": "stream",
     "text": [
      "Epoch : 31 - train_loss : 0.6928 - train_acc: 0.9784 - val_loss : 0.0622 - val_acc: 0.9830\n",
      "Validation Metrics: Precision: 0.9833, Recall: 0.9830, F1-Score: 0.9830\n",
      "\n"
     ]
    },
    {
     "name": "stderr",
     "output_type": "stream",
     "text": [
      "Epoch 32/100 - Training: 100%|███████████████████████████████████████████████████████| 500/500 [08:31<00:00,  1.02s/it]\n",
      "Epoch 32/100 - Validation: 100%|███████████████████████████████████████████████████████| 63/63 [00:29<00:00,  2.15it/s]\n"
     ]
    },
    {
     "name": "stdout",
     "output_type": "stream",
     "text": [
      "Epoch : 32 - train_loss : 0.6005 - train_acc: 0.9852 - val_loss : 0.0700 - val_acc: 0.9830\n",
      "Validation Metrics: Precision: 0.9831, Recall: 0.9830, F1-Score: 0.9830\n",
      "\n"
     ]
    },
    {
     "name": "stderr",
     "output_type": "stream",
     "text": [
      "Epoch 33/100 - Training: 100%|███████████████████████████████████████████████████████| 500/500 [08:32<00:00,  1.03s/it]\n",
      "Epoch 33/100 - Validation: 100%|███████████████████████████████████████████████████████| 63/63 [00:29<00:00,  2.15it/s]\n"
     ]
    },
    {
     "name": "stdout",
     "output_type": "stream",
     "text": [
      "Epoch : 33 - train_loss : 0.5412 - train_acc: 0.9830 - val_loss : 0.2908 - val_acc: 0.8870\n",
      "Validation Metrics: Precision: 0.9071, Recall: 0.8870, F1-Score: 0.8856\n",
      "\n"
     ]
    },
    {
     "name": "stderr",
     "output_type": "stream",
     "text": [
      "Epoch 34/100 - Training: 100%|███████████████████████████████████████████████████████| 500/500 [08:32<00:00,  1.03s/it]\n",
      "Epoch 34/100 - Validation: 100%|███████████████████████████████████████████████████████| 63/63 [00:29<00:00,  2.14it/s]\n"
     ]
    },
    {
     "name": "stdout",
     "output_type": "stream",
     "text": [
      "Epoch : 34 - train_loss : 0.4777 - train_acc: 0.9825 - val_loss : 0.1019 - val_acc: 0.9380\n",
      "Validation Metrics: Precision: 0.9448, Recall: 0.9380, F1-Score: 0.9378\n",
      "\n"
     ]
    },
    {
     "name": "stderr",
     "output_type": "stream",
     "text": [
      "Epoch 35/100 - Training: 100%|███████████████████████████████████████████████████████| 500/500 [08:31<00:00,  1.02s/it]\n",
      "Epoch 35/100 - Validation: 100%|███████████████████████████████████████████████████████| 63/63 [00:29<00:00,  2.15it/s]\n"
     ]
    },
    {
     "name": "stdout",
     "output_type": "stream",
     "text": [
      "Epoch : 35 - train_loss : 0.4236 - train_acc: 0.9794 - val_loss : 0.0467 - val_acc: 0.9840\n",
      "Validation Metrics: Precision: 0.9840, Recall: 0.9840, F1-Score: 0.9840\n",
      "\n"
     ]
    },
    {
     "name": "stderr",
     "output_type": "stream",
     "text": [
      "Epoch 36/100 - Training: 100%|███████████████████████████████████████████████████████| 500/500 [08:31<00:00,  1.02s/it]\n",
      "Epoch 36/100 - Validation: 100%|███████████████████████████████████████████████████████| 63/63 [00:29<00:00,  2.14it/s]\n"
     ]
    },
    {
     "name": "stdout",
     "output_type": "stream",
     "text": [
      "\n",
      "Best model saved with validation accuracy: 0.9920\n",
      "Epoch : 36 - train_loss : 0.3490 - train_acc: 0.9807 - val_loss : 0.0341 - val_acc: 0.9920\n",
      "Validation Metrics: Precision: 0.9921, Recall: 0.9920, F1-Score: 0.9920\n",
      "\n"
     ]
    },
    {
     "name": "stderr",
     "output_type": "stream",
     "text": [
      "Epoch 37/100 - Training: 100%|███████████████████████████████████████████████████████| 500/500 [08:33<00:00,  1.03s/it]\n",
      "Epoch 37/100 - Validation: 100%|███████████████████████████████████████████████████████| 63/63 [00:29<00:00,  2.15it/s]\n"
     ]
    },
    {
     "name": "stdout",
     "output_type": "stream",
     "text": [
      "Epoch : 37 - train_loss : 0.2775 - train_acc: 0.9847 - val_loss : 0.0291 - val_acc: 0.9860\n",
      "Validation Metrics: Precision: 0.9864, Recall: 0.9860, F1-Score: 0.9860\n",
      "\n"
     ]
    },
    {
     "name": "stderr",
     "output_type": "stream",
     "text": [
      "Epoch 38/100 - Training: 100%|███████████████████████████████████████████████████████| 500/500 [08:28<00:00,  1.02s/it]\n",
      "Epoch 38/100 - Validation: 100%|███████████████████████████████████████████████████████| 63/63 [00:29<00:00,  2.14it/s]\n"
     ]
    },
    {
     "name": "stdout",
     "output_type": "stream",
     "text": [
      "Epoch : 38 - train_loss : 0.2561 - train_acc: 0.9800 - val_loss : 0.0306 - val_acc: 0.9880\n",
      "Validation Metrics: Precision: 0.9881, Recall: 0.9880, F1-Score: 0.9880\n",
      "\n"
     ]
    },
    {
     "name": "stderr",
     "output_type": "stream",
     "text": [
      "Epoch 39/100 - Training: 100%|███████████████████████████████████████████████████████| 500/500 [08:28<00:00,  1.02s/it]\n",
      "Epoch 39/100 - Validation: 100%|███████████████████████████████████████████████████████| 63/63 [00:29<00:00,  2.15it/s]\n"
     ]
    },
    {
     "name": "stdout",
     "output_type": "stream",
     "text": [
      "Epoch : 39 - train_loss : 0.2110 - train_acc: 0.9882 - val_loss : 0.0682 - val_acc: 0.9780\n",
      "Validation Metrics: Precision: 0.9788, Recall: 0.9780, F1-Score: 0.9780\n",
      "\n"
     ]
    },
    {
     "name": "stderr",
     "output_type": "stream",
     "text": [
      "Epoch 40/100 - Training: 100%|███████████████████████████████████████████████████████| 500/500 [08:30<00:00,  1.02s/it]\n",
      "Epoch 40/100 - Validation: 100%|███████████████████████████████████████████████████████| 63/63 [00:29<00:00,  2.15it/s]\n"
     ]
    },
    {
     "name": "stdout",
     "output_type": "stream",
     "text": [
      "Epoch : 40 - train_loss : 0.2302 - train_acc: 0.9835 - val_loss : 0.0338 - val_acc: 0.9900\n",
      "Validation Metrics: Precision: 0.9900, Recall: 0.9900, F1-Score: 0.9900\n",
      "\n"
     ]
    },
    {
     "name": "stderr",
     "output_type": "stream",
     "text": [
      "Epoch 41/100 - Training: 100%|███████████████████████████████████████████████████████| 500/500 [08:32<00:00,  1.02s/it]\n",
      "Epoch 41/100 - Validation: 100%|███████████████████████████████████████████████████████| 63/63 [00:29<00:00,  2.15it/s]\n"
     ]
    },
    {
     "name": "stdout",
     "output_type": "stream",
     "text": [
      "Epoch : 41 - train_loss : 0.2011 - train_acc: 0.9849 - val_loss : 0.0412 - val_acc: 0.9870\n",
      "Validation Metrics: Precision: 0.9872, Recall: 0.9870, F1-Score: 0.9870\n",
      "\n"
     ]
    },
    {
     "name": "stderr",
     "output_type": "stream",
     "text": [
      "Epoch 42/100 - Training: 100%|███████████████████████████████████████████████████████| 500/500 [08:31<00:00,  1.02s/it]\n",
      "Epoch 42/100 - Validation: 100%|███████████████████████████████████████████████████████| 63/63 [00:29<00:00,  2.15it/s]\n"
     ]
    },
    {
     "name": "stdout",
     "output_type": "stream",
     "text": [
      "Epoch : 42 - train_loss : 0.2086 - train_acc: 0.9847 - val_loss : 0.0485 - val_acc: 0.9880\n",
      "Validation Metrics: Precision: 0.9883, Recall: 0.9880, F1-Score: 0.9880\n",
      "\n"
     ]
    },
    {
     "name": "stderr",
     "output_type": "stream",
     "text": [
      "Epoch 43/100 - Training: 100%|███████████████████████████████████████████████████████| 500/500 [08:33<00:00,  1.03s/it]\n",
      "Epoch 43/100 - Validation: 100%|███████████████████████████████████████████████████████| 63/63 [00:29<00:00,  2.15it/s]\n"
     ]
    },
    {
     "name": "stdout",
     "output_type": "stream",
     "text": [
      "\n",
      "Best model saved with validation accuracy: 0.9930\n",
      "Epoch : 43 - train_loss : 0.1787 - train_acc: 0.9884 - val_loss : 0.0241 - val_acc: 0.9930\n",
      "Validation Metrics: Precision: 0.9930, Recall: 0.9930, F1-Score: 0.9930\n",
      "\n"
     ]
    },
    {
     "name": "stderr",
     "output_type": "stream",
     "text": [
      "Epoch 44/100 - Training: 100%|███████████████████████████████████████████████████████| 500/500 [08:28<00:00,  1.02s/it]\n",
      "Epoch 44/100 - Validation: 100%|███████████████████████████████████████████████████████| 63/63 [00:29<00:00,  2.16it/s]\n"
     ]
    },
    {
     "name": "stdout",
     "output_type": "stream",
     "text": [
      "Epoch : 44 - train_loss : 0.1650 - train_acc: 0.9882 - val_loss : 0.0471 - val_acc: 0.9830\n",
      "Validation Metrics: Precision: 0.9834, Recall: 0.9830, F1-Score: 0.9830\n",
      "\n"
     ]
    },
    {
     "name": "stderr",
     "output_type": "stream",
     "text": [
      "Epoch 45/100 - Training: 100%|███████████████████████████████████████████████████████| 500/500 [08:29<00:00,  1.02s/it]\n",
      "Epoch 45/100 - Validation: 100%|███████████████████████████████████████████████████████| 63/63 [00:29<00:00,  2.15it/s]\n"
     ]
    },
    {
     "name": "stdout",
     "output_type": "stream",
     "text": [
      "Epoch : 45 - train_loss : 0.1957 - train_acc: 0.9765 - val_loss : 0.0538 - val_acc: 0.9800\n",
      "Validation Metrics: Precision: 0.9805, Recall: 0.9800, F1-Score: 0.9800\n",
      "\n"
     ]
    },
    {
     "name": "stderr",
     "output_type": "stream",
     "text": [
      "Epoch 46/100 - Training: 100%|███████████████████████████████████████████████████████| 500/500 [08:31<00:00,  1.02s/it]\n",
      "Epoch 46/100 - Validation: 100%|███████████████████████████████████████████████████████| 63/63 [00:29<00:00,  2.14it/s]\n"
     ]
    },
    {
     "name": "stdout",
     "output_type": "stream",
     "text": [
      "Epoch : 46 - train_loss : 0.1742 - train_acc: 0.9839 - val_loss : 0.0327 - val_acc: 0.9930\n",
      "Validation Metrics: Precision: 0.9930, Recall: 0.9930, F1-Score: 0.9930\n",
      "\n"
     ]
    },
    {
     "name": "stderr",
     "output_type": "stream",
     "text": [
      "Epoch 47/100 - Training: 100%|███████████████████████████████████████████████████████| 500/500 [08:28<00:00,  1.02s/it]\n",
      "Epoch 47/100 - Validation: 100%|███████████████████████████████████████████████████████| 63/63 [00:29<00:00,  2.16it/s]\n"
     ]
    },
    {
     "name": "stdout",
     "output_type": "stream",
     "text": [
      "Epoch : 47 - train_loss : 0.1439 - train_acc: 0.9905 - val_loss : 0.0580 - val_acc: 0.9860\n",
      "Validation Metrics: Precision: 0.9860, Recall: 0.9860, F1-Score: 0.9860\n",
      "\n"
     ]
    },
    {
     "name": "stderr",
     "output_type": "stream",
     "text": [
      "Epoch 48/100 - Training: 100%|███████████████████████████████████████████████████████| 500/500 [08:31<00:00,  1.02s/it]\n",
      "Epoch 48/100 - Validation: 100%|███████████████████████████████████████████████████████| 63/63 [00:29<00:00,  2.14it/s]\n"
     ]
    },
    {
     "name": "stdout",
     "output_type": "stream",
     "text": [
      "Epoch : 48 - train_loss : 0.1490 - train_acc: 0.9884 - val_loss : 0.0274 - val_acc: 0.9930\n",
      "Validation Metrics: Precision: 0.9930, Recall: 0.9930, F1-Score: 0.9930\n",
      "\n"
     ]
    },
    {
     "name": "stderr",
     "output_type": "stream",
     "text": [
      "Epoch 49/100 - Training: 100%|███████████████████████████████████████████████████████| 500/500 [08:32<00:00,  1.02s/it]\n",
      "Epoch 49/100 - Validation: 100%|███████████████████████████████████████████████████████| 63/63 [00:29<00:00,  2.15it/s]\n"
     ]
    },
    {
     "name": "stdout",
     "output_type": "stream",
     "text": [
      "Epoch : 49 - train_loss : 0.1551 - train_acc: 0.9839 - val_loss : 0.0550 - val_acc: 0.9890\n",
      "Validation Metrics: Precision: 0.9890, Recall: 0.9890, F1-Score: 0.9890\n",
      "\n"
     ]
    },
    {
     "name": "stderr",
     "output_type": "stream",
     "text": [
      "Epoch 50/100 - Training: 100%|███████████████████████████████████████████████████████| 500/500 [08:33<00:00,  1.03s/it]\n",
      "Epoch 50/100 - Validation: 100%|███████████████████████████████████████████████████████| 63/63 [00:29<00:00,  2.16it/s]\n"
     ]
    },
    {
     "name": "stdout",
     "output_type": "stream",
     "text": [
      "Epoch : 50 - train_loss : 0.1583 - train_acc: 0.9841 - val_loss : 0.0220 - val_acc: 0.9920\n",
      "Validation Metrics: Precision: 0.9921, Recall: 0.9920, F1-Score: 0.9920\n",
      "\n"
     ]
    },
    {
     "name": "stderr",
     "output_type": "stream",
     "text": [
      "Epoch 51/100 - Training: 100%|███████████████████████████████████████████████████████| 500/500 [08:32<00:00,  1.02s/it]\n",
      "Epoch 51/100 - Validation: 100%|███████████████████████████████████████████████████████| 63/63 [00:29<00:00,  2.14it/s]\n"
     ]
    },
    {
     "name": "stdout",
     "output_type": "stream",
     "text": [
      "\n",
      "Best model saved with validation accuracy: 0.9960\n",
      "Epoch : 51 - train_loss : 0.1417 - train_acc: 0.9891 - val_loss : 0.0234 - val_acc: 0.9960\n",
      "Validation Metrics: Precision: 0.9960, Recall: 0.9960, F1-Score: 0.9960\n",
      "\n"
     ]
    },
    {
     "name": "stderr",
     "output_type": "stream",
     "text": [
      "Epoch 52/100 - Training: 100%|███████████████████████████████████████████████████████| 500/500 [08:33<00:00,  1.03s/it]\n",
      "Epoch 52/100 - Validation: 100%|███████████████████████████████████████████████████████| 63/63 [00:29<00:00,  2.15it/s]\n"
     ]
    },
    {
     "name": "stdout",
     "output_type": "stream",
     "text": [
      "Epoch : 52 - train_loss : 0.1471 - train_acc: 0.9864 - val_loss : 0.0480 - val_acc: 0.9850\n",
      "Validation Metrics: Precision: 0.9850, Recall: 0.9850, F1-Score: 0.9850\n",
      "\n"
     ]
    },
    {
     "name": "stderr",
     "output_type": "stream",
     "text": [
      "Epoch 53/100 - Training: 100%|███████████████████████████████████████████████████████| 500/500 [08:32<00:00,  1.02s/it]\n",
      "Epoch 53/100 - Validation: 100%|███████████████████████████████████████████████████████| 63/63 [00:29<00:00,  2.15it/s]\n"
     ]
    },
    {
     "name": "stdout",
     "output_type": "stream",
     "text": [
      "Epoch : 53 - train_loss : 0.1310 - train_acc: 0.9884 - val_loss : 0.0236 - val_acc: 0.9930\n",
      "Validation Metrics: Precision: 0.9930, Recall: 0.9930, F1-Score: 0.9930\n",
      "\n"
     ]
    },
    {
     "name": "stderr",
     "output_type": "stream",
     "text": [
      "Epoch 54/100 - Training: 100%|███████████████████████████████████████████████████████| 500/500 [08:32<00:00,  1.02s/it]\n",
      "Epoch 54/100 - Validation: 100%|███████████████████████████████████████████████████████| 63/63 [00:29<00:00,  2.15it/s]\n"
     ]
    },
    {
     "name": "stdout",
     "output_type": "stream",
     "text": [
      "Epoch : 54 - train_loss : 0.1234 - train_acc: 0.9925 - val_loss : 0.0709 - val_acc: 0.9790\n",
      "Validation Metrics: Precision: 0.9793, Recall: 0.9790, F1-Score: 0.9790\n",
      "\n"
     ]
    },
    {
     "name": "stderr",
     "output_type": "stream",
     "text": [
      "Epoch 55/100 - Training: 100%|███████████████████████████████████████████████████████| 500/500 [08:31<00:00,  1.02s/it]\n",
      "Epoch 55/100 - Validation: 100%|███████████████████████████████████████████████████████| 63/63 [00:29<00:00,  2.15it/s]\n"
     ]
    },
    {
     "name": "stdout",
     "output_type": "stream",
     "text": [
      "Epoch : 55 - train_loss : 0.1217 - train_acc: 0.9928 - val_loss : 0.0243 - val_acc: 0.9930\n",
      "Validation Metrics: Precision: 0.9930, Recall: 0.9930, F1-Score: 0.9930\n",
      "\n"
     ]
    },
    {
     "name": "stderr",
     "output_type": "stream",
     "text": [
      "Epoch 56/100 - Training: 100%|███████████████████████████████████████████████████████| 500/500 [08:27<00:00,  1.02s/it]\n",
      "Epoch 56/100 - Validation: 100%|███████████████████████████████████████████████████████| 63/63 [00:29<00:00,  2.16it/s]\n"
     ]
    },
    {
     "name": "stdout",
     "output_type": "stream",
     "text": [
      "Epoch : 56 - train_loss : 0.1226 - train_acc: 0.9920 - val_loss : 0.0328 - val_acc: 0.9910\n",
      "Validation Metrics: Precision: 0.9911, Recall: 0.9910, F1-Score: 0.9910\n",
      "\n"
     ]
    },
    {
     "name": "stderr",
     "output_type": "stream",
     "text": [
      "Epoch 57/100 - Training: 100%|███████████████████████████████████████████████████████| 500/500 [08:28<00:00,  1.02s/it]\n",
      "Epoch 57/100 - Validation: 100%|███████████████████████████████████████████████████████| 63/63 [00:29<00:00,  2.15it/s]\n"
     ]
    },
    {
     "name": "stdout",
     "output_type": "stream",
     "text": [
      "Epoch : 57 - train_loss : 0.1187 - train_acc: 0.9924 - val_loss : 0.0829 - val_acc: 0.9780\n",
      "Validation Metrics: Precision: 0.9788, Recall: 0.9780, F1-Score: 0.9780\n",
      "\n"
     ]
    },
    {
     "name": "stderr",
     "output_type": "stream",
     "text": [
      "Epoch 58/100 - Training: 100%|███████████████████████████████████████████████████████| 500/500 [08:21<00:00,  1.00s/it]\n",
      "Epoch 58/100 - Validation: 100%|███████████████████████████████████████████████████████| 63/63 [00:29<00:00,  2.15it/s]\n"
     ]
    },
    {
     "name": "stdout",
     "output_type": "stream",
     "text": [
      "Epoch : 58 - train_loss : 0.1124 - train_acc: 0.9931 - val_loss : 0.0316 - val_acc: 0.9890\n",
      "Validation Metrics: Precision: 0.9891, Recall: 0.9890, F1-Score: 0.9890\n",
      "\n"
     ]
    },
    {
     "name": "stderr",
     "output_type": "stream",
     "text": [
      "Epoch 59/100 - Training: 100%|███████████████████████████████████████████████████████| 500/500 [08:25<00:00,  1.01s/it]\n",
      "Epoch 59/100 - Validation: 100%|███████████████████████████████████████████████████████| 63/63 [00:29<00:00,  2.16it/s]\n"
     ]
    },
    {
     "name": "stdout",
     "output_type": "stream",
     "text": [
      "Epoch : 59 - train_loss : 0.1069 - train_acc: 0.9948 - val_loss : 0.0209 - val_acc: 0.9950\n",
      "Validation Metrics: Precision: 0.9950, Recall: 0.9950, F1-Score: 0.9950\n",
      "\n"
     ]
    },
    {
     "name": "stderr",
     "output_type": "stream",
     "text": [
      "Epoch 60/100 - Training: 100%|███████████████████████████████████████████████████████| 500/500 [08:26<00:00,  1.01s/it]\n",
      "Epoch 60/100 - Validation: 100%|███████████████████████████████████████████████████████| 63/63 [00:29<00:00,  2.15it/s]\n"
     ]
    },
    {
     "name": "stdout",
     "output_type": "stream",
     "text": [
      "Epoch : 60 - train_loss : 0.1191 - train_acc: 0.9902 - val_loss : 0.0241 - val_acc: 0.9910\n",
      "Validation Metrics: Precision: 0.9910, Recall: 0.9910, F1-Score: 0.9910\n",
      "\n"
     ]
    },
    {
     "name": "stderr",
     "output_type": "stream",
     "text": [
      "Epoch 61/100 - Training: 100%|███████████████████████████████████████████████████████| 500/500 [08:27<00:00,  1.02s/it]\n",
      "Epoch 61/100 - Validation: 100%|███████████████████████████████████████████████████████| 63/63 [00:29<00:00,  2.15it/s]\n"
     ]
    },
    {
     "name": "stdout",
     "output_type": "stream",
     "text": [
      "Epoch : 61 - train_loss : 0.1066 - train_acc: 0.9929 - val_loss : 0.0787 - val_acc: 0.9730\n",
      "Validation Metrics: Precision: 0.9742, Recall: 0.9730, F1-Score: 0.9730\n",
      "\n"
     ]
    },
    {
     "name": "stderr",
     "output_type": "stream",
     "text": [
      "Epoch 62/100 - Training: 100%|███████████████████████████████████████████████████████| 500/500 [08:27<00:00,  1.01s/it]\n",
      "Epoch 62/100 - Validation: 100%|███████████████████████████████████████████████████████| 63/63 [00:29<00:00,  2.15it/s]\n"
     ]
    },
    {
     "name": "stdout",
     "output_type": "stream",
     "text": [
      "Epoch : 62 - train_loss : 0.1064 - train_acc: 0.9939 - val_loss : 0.0188 - val_acc: 0.9950\n",
      "Validation Metrics: Precision: 0.9950, Recall: 0.9950, F1-Score: 0.9950\n",
      "\n"
     ]
    },
    {
     "name": "stderr",
     "output_type": "stream",
     "text": [
      "Epoch 63/100 - Training: 100%|███████████████████████████████████████████████████████| 500/500 [08:27<00:00,  1.01s/it]\n",
      "Epoch 63/100 - Validation: 100%|███████████████████████████████████████████████████████| 63/63 [00:29<00:00,  2.15it/s]\n"
     ]
    },
    {
     "name": "stdout",
     "output_type": "stream",
     "text": [
      "Epoch : 63 - train_loss : 0.1167 - train_acc: 0.9934 - val_loss : 0.0540 - val_acc: 0.9730\n",
      "Validation Metrics: Precision: 0.9742, Recall: 0.9730, F1-Score: 0.9730\n",
      "\n"
     ]
    },
    {
     "name": "stderr",
     "output_type": "stream",
     "text": [
      "Epoch 64/100 - Training: 100%|███████████████████████████████████████████████████████| 500/500 [08:27<00:00,  1.02s/it]\n",
      "Epoch 64/100 - Validation: 100%|███████████████████████████████████████████████████████| 63/63 [00:29<00:00,  2.15it/s]\n"
     ]
    },
    {
     "name": "stdout",
     "output_type": "stream",
     "text": [
      "Epoch : 64 - train_loss : 0.1081 - train_acc: 0.9910 - val_loss : 0.0901 - val_acc: 0.9730\n",
      "Validation Metrics: Precision: 0.9744, Recall: 0.9730, F1-Score: 0.9730\n",
      "\n"
     ]
    },
    {
     "name": "stderr",
     "output_type": "stream",
     "text": [
      "Epoch 65/100 - Training: 100%|███████████████████████████████████████████████████████| 500/500 [08:28<00:00,  1.02s/it]\n",
      "Epoch 65/100 - Validation: 100%|███████████████████████████████████████████████████████| 63/63 [00:29<00:00,  2.15it/s]\n"
     ]
    },
    {
     "name": "stdout",
     "output_type": "stream",
     "text": [
      "Epoch : 65 - train_loss : 0.1039 - train_acc: 0.9930 - val_loss : 0.0187 - val_acc: 0.9930\n",
      "Validation Metrics: Precision: 0.9930, Recall: 0.9930, F1-Score: 0.9930\n",
      "\n"
     ]
    },
    {
     "name": "stderr",
     "output_type": "stream",
     "text": [
      "Epoch 66/100 - Training: 100%|███████████████████████████████████████████████████████| 500/500 [08:29<00:00,  1.02s/it]\n",
      "Epoch 66/100 - Validation: 100%|███████████████████████████████████████████████████████| 63/63 [00:29<00:00,  2.17it/s]\n"
     ]
    },
    {
     "name": "stdout",
     "output_type": "stream",
     "text": [
      "\n",
      "Best model saved with validation accuracy: 0.9990\n",
      "Epoch : 66 - train_loss : 0.0940 - train_acc: 0.9944 - val_loss : 0.0146 - val_acc: 0.9990\n",
      "Validation Metrics: Precision: 0.9990, Recall: 0.9990, F1-Score: 0.9990\n",
      "\n"
     ]
    },
    {
     "name": "stderr",
     "output_type": "stream",
     "text": [
      "Epoch 67/100 - Training: 100%|███████████████████████████████████████████████████████| 500/500 [08:28<00:00,  1.02s/it]\n",
      "Epoch 67/100 - Validation: 100%|███████████████████████████████████████████████████████| 63/63 [00:29<00:00,  2.14it/s]\n"
     ]
    },
    {
     "name": "stdout",
     "output_type": "stream",
     "text": [
      "Epoch : 67 - train_loss : 0.0870 - train_acc: 0.9971 - val_loss : 0.0097 - val_acc: 0.9990\n",
      "Validation Metrics: Precision: 0.9990, Recall: 0.9990, F1-Score: 0.9990\n",
      "\n"
     ]
    },
    {
     "name": "stderr",
     "output_type": "stream",
     "text": [
      "Epoch 68/100 - Training: 100%|███████████████████████████████████████████████████████| 500/500 [08:29<00:00,  1.02s/it]\n",
      "Epoch 68/100 - Validation: 100%|███████████████████████████████████████████████████████| 63/63 [00:29<00:00,  2.16it/s]\n"
     ]
    },
    {
     "name": "stdout",
     "output_type": "stream",
     "text": [
      "Epoch : 68 - train_loss : 0.1031 - train_acc: 0.9939 - val_loss : 0.0124 - val_acc: 0.9980\n",
      "Validation Metrics: Precision: 0.9980, Recall: 0.9980, F1-Score: 0.9980\n",
      "\n"
     ]
    },
    {
     "name": "stderr",
     "output_type": "stream",
     "text": [
      "Epoch 69/100 - Training: 100%|███████████████████████████████████████████████████████| 500/500 [08:28<00:00,  1.02s/it]\n",
      "Epoch 69/100 - Validation: 100%|███████████████████████████████████████████████████████| 63/63 [00:29<00:00,  2.15it/s]\n"
     ]
    },
    {
     "name": "stdout",
     "output_type": "stream",
     "text": [
      "Epoch : 69 - train_loss : 0.0905 - train_acc: 0.9960 - val_loss : 0.0111 - val_acc: 0.9980\n",
      "Validation Metrics: Precision: 0.9980, Recall: 0.9980, F1-Score: 0.9980\n",
      "\n"
     ]
    },
    {
     "name": "stderr",
     "output_type": "stream",
     "text": [
      "Epoch 70/100 - Training: 100%|███████████████████████████████████████████████████████| 500/500 [08:28<00:00,  1.02s/it]\n",
      "Epoch 70/100 - Validation: 100%|███████████████████████████████████████████████████████| 63/63 [00:29<00:00,  2.15it/s]\n"
     ]
    },
    {
     "name": "stdout",
     "output_type": "stream",
     "text": [
      "Epoch : 70 - train_loss : 0.0834 - train_acc: 0.9980 - val_loss : 0.0149 - val_acc: 0.9980\n",
      "Validation Metrics: Precision: 0.9980, Recall: 0.9980, F1-Score: 0.9980\n",
      "\n"
     ]
    },
    {
     "name": "stderr",
     "output_type": "stream",
     "text": [
      "Epoch 71/100 - Training: 100%|███████████████████████████████████████████████████████| 500/500 [08:29<00:00,  1.02s/it]\n",
      "Epoch 71/100 - Validation: 100%|███████████████████████████████████████████████████████| 63/63 [00:29<00:00,  2.16it/s]\n"
     ]
    },
    {
     "name": "stdout",
     "output_type": "stream",
     "text": [
      "Epoch : 71 - train_loss : 0.0887 - train_acc: 0.9964 - val_loss : 0.0354 - val_acc: 0.9890\n",
      "Validation Metrics: Precision: 0.9890, Recall: 0.9890, F1-Score: 0.9890\n",
      "\n"
     ]
    },
    {
     "name": "stderr",
     "output_type": "stream",
     "text": [
      "Epoch 72/100 - Training: 100%|███████████████████████████████████████████████████████| 500/500 [08:28<00:00,  1.02s/it]\n",
      "Epoch 72/100 - Validation: 100%|███████████████████████████████████████████████████████| 63/63 [00:29<00:00,  2.16it/s]\n"
     ]
    },
    {
     "name": "stdout",
     "output_type": "stream",
     "text": [
      "Epoch : 72 - train_loss : 0.0860 - train_acc: 0.9966 - val_loss : 0.0167 - val_acc: 0.9950\n",
      "Validation Metrics: Precision: 0.9950, Recall: 0.9950, F1-Score: 0.9950\n",
      "\n"
     ]
    },
    {
     "name": "stderr",
     "output_type": "stream",
     "text": [
      "Epoch 73/100 - Training: 100%|███████████████████████████████████████████████████████| 500/500 [08:28<00:00,  1.02s/it]\n",
      "Epoch 73/100 - Validation: 100%|███████████████████████████████████████████████████████| 63/63 [00:29<00:00,  2.16it/s]\n"
     ]
    },
    {
     "name": "stdout",
     "output_type": "stream",
     "text": [
      "Epoch : 73 - train_loss : 0.0834 - train_acc: 0.9975 - val_loss : 0.0150 - val_acc: 0.9960\n",
      "Validation Metrics: Precision: 0.9960, Recall: 0.9960, F1-Score: 0.9960\n",
      "\n"
     ]
    },
    {
     "name": "stderr",
     "output_type": "stream",
     "text": [
      "Epoch 74/100 - Training: 100%|███████████████████████████████████████████████████████| 500/500 [08:28<00:00,  1.02s/it]\n",
      "Epoch 74/100 - Validation: 100%|███████████████████████████████████████████████████████| 63/63 [00:29<00:00,  2.15it/s]\n"
     ]
    },
    {
     "name": "stdout",
     "output_type": "stream",
     "text": [
      "Epoch : 74 - train_loss : 0.0757 - train_acc: 0.9991 - val_loss : 0.0108 - val_acc: 0.9980\n",
      "Validation Metrics: Precision: 0.9980, Recall: 0.9980, F1-Score: 0.9980\n",
      "\n"
     ]
    },
    {
     "name": "stderr",
     "output_type": "stream",
     "text": [
      "Epoch 75/100 - Training: 100%|███████████████████████████████████████████████████████| 500/500 [08:27<00:00,  1.02s/it]\n",
      "Epoch 75/100 - Validation: 100%|███████████████████████████████████████████████████████| 63/63 [00:29<00:00,  2.15it/s]\n"
     ]
    },
    {
     "name": "stdout",
     "output_type": "stream",
     "text": [
      "Epoch : 75 - train_loss : 0.0792 - train_acc: 0.9980 - val_loss : 0.0232 - val_acc: 0.9930\n",
      "Validation Metrics: Precision: 0.9930, Recall: 0.9930, F1-Score: 0.9930\n",
      "\n"
     ]
    },
    {
     "name": "stderr",
     "output_type": "stream",
     "text": [
      "Epoch 76/100 - Training: 100%|███████████████████████████████████████████████████████| 500/500 [08:28<00:00,  1.02s/it]\n",
      "Epoch 76/100 - Validation: 100%|███████████████████████████████████████████████████████| 63/63 [00:29<00:00,  2.15it/s]\n"
     ]
    },
    {
     "name": "stdout",
     "output_type": "stream",
     "text": [
      "Epoch : 76 - train_loss : 0.0782 - train_acc: 0.9976 - val_loss : 0.0186 - val_acc: 0.9960\n",
      "Validation Metrics: Precision: 0.9960, Recall: 0.9960, F1-Score: 0.9960\n",
      "\n"
     ]
    },
    {
     "name": "stderr",
     "output_type": "stream",
     "text": [
      "Epoch 77/100 - Training: 100%|███████████████████████████████████████████████████████| 500/500 [08:28<00:00,  1.02s/it]\n",
      "Epoch 77/100 - Validation: 100%|███████████████████████████████████████████████████████| 63/63 [00:29<00:00,  2.17it/s]\n"
     ]
    },
    {
     "name": "stdout",
     "output_type": "stream",
     "text": [
      "Epoch : 77 - train_loss : 0.0745 - train_acc: 0.9986 - val_loss : 0.0133 - val_acc: 0.9970\n",
      "Validation Metrics: Precision: 0.9970, Recall: 0.9970, F1-Score: 0.9970\n",
      "\n"
     ]
    },
    {
     "name": "stderr",
     "output_type": "stream",
     "text": [
      "Epoch 78/100 - Training: 100%|███████████████████████████████████████████████████████| 500/500 [08:29<00:00,  1.02s/it]\n",
      "Epoch 78/100 - Validation: 100%|███████████████████████████████████████████████████████| 63/63 [00:29<00:00,  2.15it/s]\n"
     ]
    },
    {
     "name": "stdout",
     "output_type": "stream",
     "text": [
      "Epoch : 78 - train_loss : 0.0730 - train_acc: 0.9991 - val_loss : 0.0109 - val_acc: 0.9990\n",
      "Validation Metrics: Precision: 0.9990, Recall: 0.9990, F1-Score: 0.9990\n",
      "\n"
     ]
    },
    {
     "name": "stderr",
     "output_type": "stream",
     "text": [
      "Epoch 79/100 - Training: 100%|███████████████████████████████████████████████████████| 500/500 [08:26<00:00,  1.01s/it]\n",
      "Epoch 79/100 - Validation: 100%|███████████████████████████████████████████████████████| 63/63 [00:29<00:00,  2.15it/s]\n"
     ]
    },
    {
     "name": "stdout",
     "output_type": "stream",
     "text": [
      "Epoch : 79 - train_loss : 0.0799 - train_acc: 0.9971 - val_loss : 0.0151 - val_acc: 0.9960\n",
      "Validation Metrics: Precision: 0.9960, Recall: 0.9960, F1-Score: 0.9960\n",
      "\n"
     ]
    },
    {
     "name": "stderr",
     "output_type": "stream",
     "text": [
      "Epoch 80/100 - Training: 100%|███████████████████████████████████████████████████████| 500/500 [08:31<00:00,  1.02s/it]\n",
      "Epoch 80/100 - Validation: 100%|███████████████████████████████████████████████████████| 63/63 [00:29<00:00,  2.13it/s]\n"
     ]
    },
    {
     "name": "stdout",
     "output_type": "stream",
     "text": [
      "Epoch : 80 - train_loss : 0.0782 - train_acc: 0.9981 - val_loss : 0.0107 - val_acc: 0.9990\n",
      "Validation Metrics: Precision: 0.9990, Recall: 0.9990, F1-Score: 0.9990\n",
      "\n"
     ]
    },
    {
     "name": "stderr",
     "output_type": "stream",
     "text": [
      "Epoch 81/100 - Training: 100%|███████████████████████████████████████████████████████| 500/500 [08:27<00:00,  1.02s/it]\n",
      "Epoch 81/100 - Validation: 100%|███████████████████████████████████████████████████████| 63/63 [00:29<00:00,  2.16it/s]\n"
     ]
    },
    {
     "name": "stdout",
     "output_type": "stream",
     "text": [
      "Epoch : 81 - train_loss : 0.0723 - train_acc: 0.9990 - val_loss : 0.0153 - val_acc: 0.9970\n",
      "Validation Metrics: Precision: 0.9970, Recall: 0.9970, F1-Score: 0.9970\n",
      "\n"
     ]
    },
    {
     "name": "stderr",
     "output_type": "stream",
     "text": [
      "Epoch 82/100 - Training: 100%|███████████████████████████████████████████████████████| 500/500 [08:27<00:00,  1.02s/it]\n",
      "Epoch 82/100 - Validation: 100%|███████████████████████████████████████████████████████| 63/63 [00:29<00:00,  2.15it/s]\n"
     ]
    },
    {
     "name": "stdout",
     "output_type": "stream",
     "text": [
      "Epoch : 82 - train_loss : 0.0696 - train_acc: 0.9998 - val_loss : 0.0087 - val_acc: 0.9990\n",
      "Validation Metrics: Precision: 0.9990, Recall: 0.9990, F1-Score: 0.9990\n",
      "\n"
     ]
    },
    {
     "name": "stderr",
     "output_type": "stream",
     "text": [
      "Epoch 83/100 - Training: 100%|███████████████████████████████████████████████████████| 500/500 [08:27<00:00,  1.01s/it]\n",
      "Epoch 83/100 - Validation: 100%|███████████████████████████████████████████████████████| 63/63 [00:29<00:00,  2.15it/s]\n"
     ]
    },
    {
     "name": "stdout",
     "output_type": "stream",
     "text": [
      "Epoch : 83 - train_loss : 0.0676 - train_acc: 0.9999 - val_loss : 0.0097 - val_acc: 0.9990\n",
      "Validation Metrics: Precision: 0.9990, Recall: 0.9990, F1-Score: 0.9990\n",
      "\n"
     ]
    },
    {
     "name": "stderr",
     "output_type": "stream",
     "text": [
      "Epoch 84/100 - Training: 100%|███████████████████████████████████████████████████████| 500/500 [08:27<00:00,  1.02s/it]\n",
      "Epoch 84/100 - Validation: 100%|███████████████████████████████████████████████████████| 63/63 [00:29<00:00,  2.14it/s]\n"
     ]
    },
    {
     "name": "stdout",
     "output_type": "stream",
     "text": [
      "Epoch : 84 - train_loss : 0.0695 - train_acc: 0.9993 - val_loss : 0.0096 - val_acc: 0.9990\n",
      "Validation Metrics: Precision: 0.9990, Recall: 0.9990, F1-Score: 0.9990\n",
      "\n"
     ]
    },
    {
     "name": "stderr",
     "output_type": "stream",
     "text": [
      "Epoch 85/100 - Training: 100%|███████████████████████████████████████████████████████| 500/500 [08:28<00:00,  1.02s/it]\n",
      "Epoch 85/100 - Validation: 100%|███████████████████████████████████████████████████████| 63/63 [00:29<00:00,  2.14it/s]\n"
     ]
    },
    {
     "name": "stdout",
     "output_type": "stream",
     "text": [
      "Epoch : 85 - train_loss : 0.0685 - train_acc: 0.9998 - val_loss : 0.0120 - val_acc: 0.9970\n",
      "Validation Metrics: Precision: 0.9970, Recall: 0.9970, F1-Score: 0.9970\n",
      "\n"
     ]
    },
    {
     "name": "stderr",
     "output_type": "stream",
     "text": [
      "Epoch 86/100 - Training: 100%|███████████████████████████████████████████████████████| 500/500 [08:28<00:00,  1.02s/it]\n",
      "Epoch 86/100 - Validation: 100%|███████████████████████████████████████████████████████| 63/63 [00:29<00:00,  2.15it/s]\n"
     ]
    },
    {
     "name": "stdout",
     "output_type": "stream",
     "text": [
      "Epoch : 86 - train_loss : 0.0677 - train_acc: 0.9993 - val_loss : 0.0089 - val_acc: 0.9990\n",
      "Validation Metrics: Precision: 0.9990, Recall: 0.9990, F1-Score: 0.9990\n",
      "\n"
     ]
    },
    {
     "name": "stderr",
     "output_type": "stream",
     "text": [
      "Epoch 87/100 - Training: 100%|███████████████████████████████████████████████████████| 500/500 [08:27<00:00,  1.02s/it]\n",
      "Epoch 87/100 - Validation: 100%|███████████████████████████████████████████████████████| 63/63 [00:29<00:00,  2.16it/s]\n"
     ]
    },
    {
     "name": "stdout",
     "output_type": "stream",
     "text": [
      "Epoch : 87 - train_loss : 0.0682 - train_acc: 0.9993 - val_loss : 0.0096 - val_acc: 0.9990\n",
      "Validation Metrics: Precision: 0.9990, Recall: 0.9990, F1-Score: 0.9990\n",
      "\n"
     ]
    },
    {
     "name": "stderr",
     "output_type": "stream",
     "text": [
      "Epoch 88/100 - Training: 100%|███████████████████████████████████████████████████████| 500/500 [08:28<00:00,  1.02s/it]\n",
      "Epoch 88/100 - Validation: 100%|███████████████████████████████████████████████████████| 63/63 [00:29<00:00,  2.16it/s]\n"
     ]
    },
    {
     "name": "stdout",
     "output_type": "stream",
     "text": [
      "Epoch : 88 - train_loss : 0.0667 - train_acc: 0.9994 - val_loss : 0.0089 - val_acc: 0.9990\n",
      "Validation Metrics: Precision: 0.9990, Recall: 0.9990, F1-Score: 0.9990\n",
      "\n"
     ]
    },
    {
     "name": "stderr",
     "output_type": "stream",
     "text": [
      "Epoch 89/100 - Training: 100%|███████████████████████████████████████████████████████| 500/500 [08:28<00:00,  1.02s/it]\n",
      "Epoch 89/100 - Validation: 100%|███████████████████████████████████████████████████████| 63/63 [00:29<00:00,  2.15it/s]\n"
     ]
    },
    {
     "name": "stdout",
     "output_type": "stream",
     "text": [
      "Epoch : 89 - train_loss : 0.0669 - train_acc: 0.9994 - val_loss : 0.0104 - val_acc: 0.9980\n",
      "Validation Metrics: Precision: 0.9980, Recall: 0.9980, F1-Score: 0.9980\n",
      "\n"
     ]
    },
    {
     "name": "stderr",
     "output_type": "stream",
     "text": [
      "Epoch 90/100 - Training: 100%|███████████████████████████████████████████████████████| 500/500 [08:29<00:00,  1.02s/it]\n",
      "Epoch 90/100 - Validation: 100%|███████████████████████████████████████████████████████| 63/63 [00:29<00:00,  2.15it/s]\n"
     ]
    },
    {
     "name": "stdout",
     "output_type": "stream",
     "text": [
      "Epoch : 90 - train_loss : 0.0682 - train_acc: 0.9989 - val_loss : 0.0092 - val_acc: 0.9990\n",
      "Validation Metrics: Precision: 0.9990, Recall: 0.9990, F1-Score: 0.9990\n",
      "\n"
     ]
    },
    {
     "name": "stderr",
     "output_type": "stream",
     "text": [
      "Epoch 91/100 - Training: 100%|███████████████████████████████████████████████████████| 500/500 [08:29<00:00,  1.02s/it]\n",
      "Epoch 91/100 - Validation: 100%|███████████████████████████████████████████████████████| 63/63 [00:29<00:00,  2.15it/s]\n"
     ]
    },
    {
     "name": "stdout",
     "output_type": "stream",
     "text": [
      "Epoch : 91 - train_loss : 0.0683 - train_acc: 0.9989 - val_loss : 0.0086 - val_acc: 0.9990\n",
      "Validation Metrics: Precision: 0.9990, Recall: 0.9990, F1-Score: 0.9990\n",
      "\n"
     ]
    },
    {
     "name": "stderr",
     "output_type": "stream",
     "text": [
      "Epoch 92/100 - Training: 100%|███████████████████████████████████████████████████████| 500/500 [08:28<00:00,  1.02s/it]\n",
      "Epoch 92/100 - Validation: 100%|███████████████████████████████████████████████████████| 63/63 [00:29<00:00,  2.15it/s]\n"
     ]
    },
    {
     "name": "stdout",
     "output_type": "stream",
     "text": [
      "Epoch : 92 - train_loss : 0.0674 - train_acc: 0.9996 - val_loss : 0.0093 - val_acc: 0.9990\n",
      "Validation Metrics: Precision: 0.9990, Recall: 0.9990, F1-Score: 0.9990\n",
      "\n"
     ]
    },
    {
     "name": "stderr",
     "output_type": "stream",
     "text": [
      "Epoch 93/100 - Training: 100%|███████████████████████████████████████████████████████| 500/500 [08:28<00:00,  1.02s/it]\n",
      "Epoch 93/100 - Validation: 100%|███████████████████████████████████████████████████████| 63/63 [00:29<00:00,  2.15it/s]\n"
     ]
    },
    {
     "name": "stdout",
     "output_type": "stream",
     "text": [
      "Epoch : 93 - train_loss : 0.0660 - train_acc: 0.9995 - val_loss : 0.0091 - val_acc: 0.9990\n",
      "Validation Metrics: Precision: 0.9990, Recall: 0.9990, F1-Score: 0.9990\n",
      "\n"
     ]
    },
    {
     "name": "stderr",
     "output_type": "stream",
     "text": [
      "Epoch 94/100 - Training: 100%|███████████████████████████████████████████████████████| 500/500 [08:27<00:00,  1.01s/it]\n",
      "Epoch 94/100 - Validation: 100%|███████████████████████████████████████████████████████| 63/63 [00:29<00:00,  2.15it/s]\n"
     ]
    },
    {
     "name": "stdout",
     "output_type": "stream",
     "text": [
      "Epoch : 94 - train_loss : 0.0652 - train_acc: 0.9996 - val_loss : 0.0085 - val_acc: 0.9990\n",
      "Validation Metrics: Precision: 0.9990, Recall: 0.9990, F1-Score: 0.9990\n",
      "\n"
     ]
    },
    {
     "name": "stderr",
     "output_type": "stream",
     "text": [
      "Epoch 95/100 - Training: 100%|███████████████████████████████████████████████████████| 500/500 [08:28<00:00,  1.02s/it]\n",
      "Epoch 95/100 - Validation: 100%|███████████████████████████████████████████████████████| 63/63 [00:29<00:00,  2.14it/s]\n"
     ]
    },
    {
     "name": "stdout",
     "output_type": "stream",
     "text": [
      "Epoch : 95 - train_loss : 0.0660 - train_acc: 0.9996 - val_loss : 0.0085 - val_acc: 0.9990\n",
      "Validation Metrics: Precision: 0.9990, Recall: 0.9990, F1-Score: 0.9990\n",
      "\n"
     ]
    },
    {
     "name": "stderr",
     "output_type": "stream",
     "text": [
      "Epoch 96/100 - Training: 100%|███████████████████████████████████████████████████████| 500/500 [08:29<00:00,  1.02s/it]\n",
      "Epoch 96/100 - Validation: 100%|███████████████████████████████████████████████████████| 63/63 [00:29<00:00,  2.15it/s]\n"
     ]
    },
    {
     "name": "stdout",
     "output_type": "stream",
     "text": [
      "Epoch : 96 - train_loss : 0.0684 - train_acc: 0.9983 - val_loss : 0.0105 - val_acc: 0.9990\n",
      "Validation Metrics: Precision: 0.9990, Recall: 0.9990, F1-Score: 0.9990\n",
      "\n"
     ]
    },
    {
     "name": "stderr",
     "output_type": "stream",
     "text": [
      "Epoch 97/100 - Training: 100%|███████████████████████████████████████████████████████| 500/500 [08:27<00:00,  1.01s/it]\n",
      "Epoch 97/100 - Validation: 100%|███████████████████████████████████████████████████████| 63/63 [00:29<00:00,  2.14it/s]\n"
     ]
    },
    {
     "name": "stdout",
     "output_type": "stream",
     "text": [
      "Epoch : 97 - train_loss : 0.0648 - train_acc: 0.9998 - val_loss : 0.0089 - val_acc: 0.9990\n",
      "Validation Metrics: Precision: 0.9990, Recall: 0.9990, F1-Score: 0.9990\n",
      "\n"
     ]
    },
    {
     "name": "stderr",
     "output_type": "stream",
     "text": [
      "Epoch 98/100 - Training: 100%|███████████████████████████████████████████████████████| 500/500 [08:27<00:00,  1.02s/it]\n",
      "Epoch 98/100 - Validation: 100%|███████████████████████████████████████████████████████| 63/63 [00:29<00:00,  2.15it/s]\n"
     ]
    },
    {
     "name": "stdout",
     "output_type": "stream",
     "text": [
      "Epoch : 98 - train_loss : 0.0646 - train_acc: 0.9998 - val_loss : 0.0086 - val_acc: 0.9990\n",
      "Validation Metrics: Precision: 0.9990, Recall: 0.9990, F1-Score: 0.9990\n",
      "\n"
     ]
    },
    {
     "name": "stderr",
     "output_type": "stream",
     "text": [
      "Epoch 99/100 - Training: 100%|███████████████████████████████████████████████████████| 500/500 [08:30<00:00,  1.02s/it]\n",
      "Epoch 99/100 - Validation: 100%|███████████████████████████████████████████████████████| 63/63 [00:29<00:00,  2.14it/s]\n"
     ]
    },
    {
     "name": "stdout",
     "output_type": "stream",
     "text": [
      "Epoch : 99 - train_loss : 0.0646 - train_acc: 0.9998 - val_loss : 0.0098 - val_acc: 0.9990\n",
      "Validation Metrics: Precision: 0.9990, Recall: 0.9990, F1-Score: 0.9990\n",
      "\n"
     ]
    },
    {
     "name": "stderr",
     "output_type": "stream",
     "text": [
      "Epoch 100/100 - Training: 100%|██████████████████████████████████████████████████████| 500/500 [08:27<00:00,  1.02s/it]\n",
      "Epoch 100/100 - Validation: 100%|██████████████████████████████████████████████████████| 63/63 [00:29<00:00,  2.15it/s]"
     ]
    },
    {
     "name": "stdout",
     "output_type": "stream",
     "text": [
      "Epoch : 100 - train_loss : 0.0720 - train_acc: 0.9969 - val_loss : 0.0088 - val_acc: 0.9990\n",
      "Validation Metrics: Precision: 0.9990, Recall: 0.9990, F1-Score: 0.9990\n",
      "\n",
      "\n",
      "To load the best saved model:\n",
      "checkpoint = torch.load('vit.pth')\n",
      "model.load_state_dict(checkpoint['model_state_dict'])\n"
     ]
    },
    {
     "name": "stderr",
     "output_type": "stream",
     "text": [
      "\n"
     ]
    }
   ],
   "source": [
    "import torch\n",
    "import torchvision.transforms as transforms\n",
    "from torch.utils.data import DataLoader\n",
    "from torchvision.datasets import ImageFolder\n",
    "from transformers import ViTForImageClassification, ViTImageProcessor\n",
    "from tqdm import tqdm\n",
    "from PIL import Image\n",
    "import random\n",
    "import numpy as np\n",
    "import matplotlib.pyplot as plt\n",
    "import seaborn as sns\n",
    "from sklearn.metrics import (\n",
    "    accuracy_score, \n",
    "    precision_score, \n",
    "    recall_score, \n",
    "    f1_score,\n",
    "    confusion_matrix, \n",
    "    roc_curve, \n",
    "    auc, \n",
    "    roc_auc_score, \n",
    "    classification_report\n",
    ")\n",
    "\n",
    "torch.cuda.empty_cache()\n",
    "\n",
    "# Set seeds for reproducibility\n",
    "def set_seed(seed=42):\n",
    "    random.seed(seed)\n",
    "    np.random.seed(seed)\n",
    "    torch.manual_seed(seed)\n",
    "    torch.cuda.manual_seed_all(seed)\n",
    "\n",
    "set_seed()\n",
    "\n",
    "# Set device\n",
    "device = torch.device(\"cuda\" if torch.cuda.is_available() else \"cpu\")\n",
    "\n",
    "# Define hyperparameters\n",
    "batch_size = 16\n",
    "num_epochs = 100\n",
    "learning_rate = 1e-4\n",
    "weight_decay = 1e-2\n",
    "lasso_lambda = 1e-3  # Lasso regularization strength\n",
    "\n",
    "# Load pre-trained ViT model and image processor\n",
    "model_name = \"google/vit-base-patch16-224\"\n",
    "model = ViTForImageClassification.from_pretrained(model_name, num_labels=2, ignore_mismatched_sizes=True)\n",
    "image_processor = ViTImageProcessor.from_pretrained(model_name)\n",
    "\n",
    "# Replace the classifier head with a slightly more complex one\n",
    "model.classifier = torch.nn.Sequential(\n",
    "    torch.nn.Linear(model.config.hidden_size, 1024),\n",
    "    torch.nn.BatchNorm1d(1024),\n",
    "    torch.nn.ReLU(),\n",
    "    torch.nn.Dropout(0.3),\n",
    "    torch.nn.Linear(1024, 512),\n",
    "    torch.nn.BatchNorm1d(512),\n",
    "    torch.nn.ReLU(),\n",
    "    torch.nn.Dropout(0.2),\n",
    "    torch.nn.Linear(512, 2)\n",
    ")\n",
    "\n",
    "# Define data transforms with augmentation\n",
    "train_transform = transforms.Compose([\n",
    "    transforms.RandomResizedCrop(224, scale=(0.8, 1.0)),\n",
    "    transforms.RandomHorizontalFlip(p=0.5),\n",
    "    transforms.RandomRotation(20),\n",
    "    transforms.ColorJitter(brightness=0.2, contrast=0.2, saturation=0.2, hue=0.1),\n",
    "    transforms.RandomAffine(degrees=0, translate=(0.1, 0.1)),\n",
    "    transforms.ToTensor(),\n",
    "    transforms.Normalize(mean=[0.485, 0.456, 0.406], std=[0.229, 0.224, 0.225])\n",
    "])\n",
    "\n",
    "val_transform = transforms.Compose([\n",
    "    transforms.Resize(256),\n",
    "    transforms.CenterCrop(224),\n",
    "    transforms.ToTensor(),\n",
    "    transforms.Normalize(mean=[0.485, 0.456, 0.406], std=[0.229, 0.224, 0.225])\n",
    "])\n",
    "\n",
    "# Load and preprocess the datasets\n",
    "train_dir = '/Users/user/Downloads/archive/IMG_CLASSES/train3'\n",
    "val_dir = '/Users/user/Downloads/archive/IMG_CLASSES/val3'\n",
    "\n",
    "train_dataset = ImageFolder(train_dir, transform=train_transform)\n",
    "val_dataset = ImageFolder(val_dir, transform=val_transform)\n",
    "\n",
    "train_loader = DataLoader(train_dataset, batch_size=batch_size, shuffle=True, num_workers=0)\n",
    "val_loader = DataLoader(val_dataset, batch_size=batch_size, num_workers=4)\n",
    "\n",
    "# Move model to device\n",
    "model.to(device)\n",
    "\n",
    "# Custom loss function with Lasso regularization\n",
    "def lasso_loss(model, criterion, outputs, labels, lasso_lambda):\n",
    "    # Standard cross-entropy loss\n",
    "    standard_loss = criterion(outputs.logits, labels)\n",
    "    \n",
    "    # Lasso regularization (L1 penalty)\n",
    "    l1_penalty = sum(p.abs().sum() for p in model.classifier.parameters() if p.requires_grad)\n",
    "    \n",
    "    # Combined loss\n",
    "    return standard_loss + lasso_lambda * l1_penalty\n",
    "\n",
    "# Define optimizer and loss function\n",
    "optimizer = torch.optim.AdamW(model.parameters(), lr=learning_rate, weight_decay=weight_decay)\n",
    "criterion = torch.nn.CrossEntropyLoss()\n",
    "\n",
    "# Learning rate scheduler\n",
    "scheduler = torch.optim.lr_scheduler.OneCycleLR(optimizer, max_lr=learning_rate, epochs=num_epochs, steps_per_epoch=len(train_loader))\n",
    "\n",
    "# Lists to store training and validation metrics\n",
    "train_losses = []\n",
    "train_accuracies = []\n",
    "val_losses = []\n",
    "val_accuracies = []\n",
    "val_precisions = []\n",
    "val_recalls = []\n",
    "val_f1_scores = []\n",
    "\n",
    "# Best model tracking\n",
    "best_val_accuracy = 0\n",
    "best_model_path = 'best_vit_image_classifier.pth'\n",
    "\n",
    "# Training loop\n",
    "for epoch in range(num_epochs):\n",
    "    model.train()\n",
    "    epoch_loss = 0\n",
    "    epoch_accuracy = 0\n",
    "\n",
    "    for data, label in tqdm(train_loader, desc=f\"Epoch {epoch+1}/{num_epochs} - Training\"):\n",
    "        data = data.to(device)\n",
    "        label = label.to(device)\n",
    "\n",
    "        optimizer.zero_grad()\n",
    "        outputs = model(data, labels=label)\n",
    "        \n",
    "        # Use custom loss with Lasso regularization\n",
    "        loss = lasso_loss(model, criterion, outputs, label, lasso_lambda)\n",
    "\n",
    "        loss.backward()\n",
    "        optimizer.step()\n",
    "        scheduler.step()\n",
    "\n",
    "        acc = (outputs.logits.argmax(dim=1) == label).float().mean()\n",
    "        epoch_accuracy += acc.item() / len(train_loader)\n",
    "        epoch_loss += loss.item() / len(train_loader)\n",
    "\n",
    "    # Store training metrics\n",
    "    train_losses.append(epoch_loss)\n",
    "    train_accuracies.append(epoch_accuracy)\n",
    "\n",
    "    # Validation\n",
    "    model.eval()\n",
    "    all_preds = []\n",
    "    all_labels = []\n",
    "    all_probs = []\n",
    "    epoch_val_loss = 0\n",
    "\n",
    "    with torch.no_grad():\n",
    "        for data, label in tqdm(val_loader, desc=f\"Epoch {epoch+1}/{num_epochs} - Validation\"):\n",
    "            data = data.to(device)\n",
    "            label = label.to(device)\n",
    "\n",
    "            outputs = model(data, labels=label)\n",
    "            val_loss = criterion(outputs.logits, label)\n",
    "\n",
    "            # Collect predictions and probabilities\n",
    "            probs = torch.nn.functional.softmax(outputs.logits, dim=1)\n",
    "            preds = torch.argmax(probs, dim=1)\n",
    "            \n",
    "            all_preds.extend(preds.cpu().numpy())\n",
    "            all_labels.extend(label.cpu().numpy())\n",
    "            all_probs.extend(probs[:, 1].cpu().numpy())\n",
    "\n",
    "            epoch_val_loss += val_loss.item() / len(val_loader)\n",
    "\n",
    "    # Calculate validation metrics\n",
    "    val_accuracy = accuracy_score(all_labels, all_preds)\n",
    "    val_precision = precision_score(all_labels, all_preds, average='weighted')\n",
    "    val_recall = recall_score(all_labels, all_preds, average='weighted')\n",
    "    val_f1 = f1_score(all_labels, all_preds, average='weighted')\n",
    "\n",
    "    # Save the best model based on validation accuracy\n",
    "    if val_accuracy > best_val_accuracy:\n",
    "        best_val_accuracy = val_accuracy\n",
    "        torch.save({\n",
    "            'epoch': epoch,\n",
    "            'model_state_dict': model.state_dict(),\n",
    "            'optimizer_state_dict': optimizer.state_dict(),\n",
    "            'val_accuracy': val_accuracy,\n",
    "        }, best_model_path)\n",
    "        print(f\"\\nBest model saved with validation accuracy: {best_val_accuracy:.4f}\")\n",
    "\n",
    "    # Store validation metrics\n",
    "    val_losses.append(epoch_val_loss)\n",
    "    val_accuracies.append(val_accuracy)\n",
    "    val_precisions.append(val_precision)\n",
    "    val_recalls.append(val_recall)\n",
    "    val_f1_scores.append(val_f1)\n",
    "\n",
    "    print(\n",
    "        f\"Epoch : {epoch+1} - \"\n",
    "        f\"train_loss : {epoch_loss:.4f} - train_acc: {epoch_accuracy:.4f} - \"\n",
    "        f\"val_loss : {epoch_val_loss:.4f} - val_acc: {val_accuracy:.4f}\\n\"\n",
    "        f\"Validation Metrics: \"\n",
    "        f\"Precision: {val_precision:.4f}, \"\n",
    "        f\"Recall: {val_recall:.4f}, \"\n",
    "        f\"F1-Score: {val_f1:.4f}\\n\"\n",
    "    )\n",
    "\n",
    "# Rest of the code remains the same...\n",
    "\n",
    "# Add a note about model loading\n",
    "print(\"\\nTo load the best saved model:\")\n",
    "print(\"checkpoint = torch.load('vit.pth')\")\n",
    "print(\"model.load_state_dict(checkpoint['model_state_dict'])\")"
   ]
  },
  {
   "cell_type": "code",
   "execution_count": null,
   "id": "55775fdb-036a-427a-8dec-79be99177621",
   "metadata": {},
   "outputs": [],
   "source": []
  }
 ],
 "metadata": {
  "kernelspec": {
   "display_name": "Python 3 (ipykernel)",
   "language": "python",
   "name": "python3"
  },
  "language_info": {
   "codemirror_mode": {
    "name": "ipython",
    "version": 3
   },
   "file_extension": ".py",
   "mimetype": "text/x-python",
   "name": "python",
   "nbconvert_exporter": "python",
   "pygments_lexer": "ipython3",
   "version": "3.8.19"
  }
 },
 "nbformat": 4,
 "nbformat_minor": 5
}
