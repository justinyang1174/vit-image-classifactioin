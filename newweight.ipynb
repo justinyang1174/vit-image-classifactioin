{
 "cells": [
  {
   "cell_type": "code",
   "execution_count": 3,
   "id": "0948eda6-8930-408f-aa0f-69686105f677",
   "metadata": {},
   "outputs": [
    {
     "name": "stdout",
     "output_type": "stream",
     "text": [
      "Using device: cuda\n",
      "Initializing model...\n"
     ]
    },
    {
     "name": "stderr",
     "output_type": "stream",
     "text": [
      "Some weights of ViTForImageClassification were not initialized from the model checkpoint at google/vit-base-patch16-224 and are newly initialized because the shapes did not match:\n",
      "- classifier.bias: found shape torch.Size([1000]) in the checkpoint and torch.Size([2]) in the model instantiated\n",
      "- classifier.weight: found shape torch.Size([1000, 768]) in the checkpoint and torch.Size([2, 768]) in the model instantiated\n",
      "You should probably TRAIN this model on a down-stream task to be able to use it for predictions and inference.\n"
     ]
    },
    {
     "name": "stdout",
     "output_type": "stream",
     "text": [
      "Loading pre-trained weights...\n",
      "Loaded checkpoint from epoch 8\n",
      "Successfully loaded weights from vit.pth\n",
      "Loading datasets...\n",
      "Number of training samples: 1285\n",
      "Number of validation samples: 300\n",
      "Starting training...\n",
      "\n",
      "Epoch 10/100\n"
     ]
    },
    {
     "name": "stderr",
     "output_type": "stream",
     "text": [
      "Training: 100%|█████████████████████████████████████████████████| 81/81 [02:50<00:00,  2.10s/it, loss=0.0369, acc=98.3]\n",
      "Validating: 100%|██████████████████████████████████████████████████████████████████████| 19/19 [00:50<00:00,  2.63s/it]\n"
     ]
    },
    {
     "name": "stdout",
     "output_type": "stream",
     "text": [
      "Train Loss: 0.0369 | Train Acc: 98.29%\n",
      "Val Loss: 0.5091 | Val Acc: 85.33%\n",
      "Precision: 0.8574 | Recall: 0.8533 | F1: 0.8529\n",
      "Saving best model with validation accuracy: 85.33%\n",
      "\n",
      "Epoch 11/100\n"
     ]
    },
    {
     "name": "stderr",
     "output_type": "stream",
     "text": [
      "Training: 100%|██████████████████████████████████████████████████| 81/81 [02:50<00:00,  2.10s/it, loss=0.034, acc=98.4]\n",
      "Validating: 100%|██████████████████████████████████████████████████████████████████████| 19/19 [00:49<00:00,  2.59s/it]\n"
     ]
    },
    {
     "name": "stdout",
     "output_type": "stream",
     "text": [
      "Train Loss: 0.0340 | Train Acc: 98.37%\n",
      "Val Loss: 0.4535 | Val Acc: 86.33%\n",
      "Precision: 0.8693 | Recall: 0.8633 | F1: 0.8628\n",
      "Saving best model with validation accuracy: 86.33%\n",
      "\n",
      "Epoch 12/100\n"
     ]
    },
    {
     "name": "stderr",
     "output_type": "stream",
     "text": [
      "Training: 100%|█████████████████████████████████████████████████| 81/81 [02:51<00:00,  2.12s/it, loss=0.0311, acc=98.2]\n",
      "Validating: 100%|██████████████████████████████████████████████████████████████████████| 19/19 [00:50<00:00,  2.63s/it]\n"
     ]
    },
    {
     "name": "stdout",
     "output_type": "stream",
     "text": [
      "Train Loss: 0.0311 | Train Acc: 98.21%\n",
      "Val Loss: 0.5938 | Val Acc: 88.33%\n",
      "Precision: 0.9004 | Recall: 0.8833 | F1: 0.8821\n",
      "Saving best model with validation accuracy: 88.33%\n",
      "\n",
      "Epoch 13/100\n"
     ]
    },
    {
     "name": "stderr",
     "output_type": "stream",
     "text": [
      "Training: 100%|█████████████████████████████████████████████████| 81/81 [02:50<00:00,  2.11s/it, loss=0.0344, acc=98.1]\n",
      "Validating: 100%|██████████████████████████████████████████████████████████████████████| 19/19 [00:49<00:00,  2.59s/it]\n"
     ]
    },
    {
     "name": "stdout",
     "output_type": "stream",
     "text": [
      "Train Loss: 0.0344 | Train Acc: 98.13%\n",
      "Val Loss: 0.5545 | Val Acc: 86.67%\n",
      "Precision: 0.8733 | Recall: 0.8667 | F1: 0.8661\n",
      "\n",
      "Epoch 14/100\n"
     ]
    },
    {
     "name": "stderr",
     "output_type": "stream",
     "text": [
      "Training: 100%|█████████████████████████████████████████████████| 81/81 [02:50<00:00,  2.10s/it, loss=0.0336, acc=98.4]\n",
      "Validating: 100%|██████████████████████████████████████████████████████████████████████| 19/19 [00:49<00:00,  2.60s/it]\n"
     ]
    },
    {
     "name": "stdout",
     "output_type": "stream",
     "text": [
      "Train Loss: 0.0336 | Train Acc: 98.37%\n",
      "Val Loss: 0.5420 | Val Acc: 88.00%\n",
      "Precision: 0.8900 | Recall: 0.8800 | F1: 0.8792\n",
      "\n",
      "Epoch 15/100\n"
     ]
    },
    {
     "name": "stderr",
     "output_type": "stream",
     "text": [
      "Training: 100%|█████████████████████████████████████████████████| 81/81 [02:49<00:00,  2.09s/it, loss=0.0325, acc=98.1]\n",
      "Validating: 100%|██████████████████████████████████████████████████████████████████████| 19/19 [00:48<00:00,  2.56s/it]\n"
     ]
    },
    {
     "name": "stdout",
     "output_type": "stream",
     "text": [
      "Train Loss: 0.0325 | Train Acc: 98.13%\n",
      "Val Loss: 0.5406 | Val Acc: 87.00%\n",
      "Precision: 0.8774 | Recall: 0.8700 | F1: 0.8694\n",
      "\n",
      "Epoch 16/100\n"
     ]
    },
    {
     "name": "stderr",
     "output_type": "stream",
     "text": [
      "Training: 100%|█████████████████████████████████████████████████| 81/81 [02:50<00:00,  2.10s/it, loss=0.0315, acc=98.4]\n",
      "Validating: 100%|██████████████████████████████████████████████████████████████████████| 19/19 [00:48<00:00,  2.57s/it]\n"
     ]
    },
    {
     "name": "stdout",
     "output_type": "stream",
     "text": [
      "Train Loss: 0.0315 | Train Acc: 98.44%\n",
      "Val Loss: 0.5523 | Val Acc: 87.33%\n",
      "Precision: 0.8815 | Recall: 0.8733 | F1: 0.8726\n",
      "\n",
      "Epoch 17/100\n"
     ]
    },
    {
     "name": "stderr",
     "output_type": "stream",
     "text": [
      "Training: 100%|███████████████████████████████████████████████████| 81/81 [02:50<00:00,  2.11s/it, loss=0.0316, acc=98]\n",
      "Validating: 100%|██████████████████████████████████████████████████████████████████████| 19/19 [00:49<00:00,  2.58s/it]\n"
     ]
    },
    {
     "name": "stdout",
     "output_type": "stream",
     "text": [
      "Train Loss: 0.0316 | Train Acc: 97.98%\n",
      "Val Loss: 0.6100 | Val Acc: 87.33%\n",
      "Precision: 0.8815 | Recall: 0.8733 | F1: 0.8726\n",
      "\n",
      "Epoch 18/100\n"
     ]
    },
    {
     "name": "stderr",
     "output_type": "stream",
     "text": [
      "Training: 100%|█████████████████████████████████████████████████| 81/81 [02:49<00:00,  2.09s/it, loss=0.0289, acc=98.1]\n",
      "Validating: 100%|██████████████████████████████████████████████████████████████████████| 19/19 [00:49<00:00,  2.60s/it]\n"
     ]
    },
    {
     "name": "stdout",
     "output_type": "stream",
     "text": [
      "Train Loss: 0.0289 | Train Acc: 98.13%\n",
      "Val Loss: 0.6099 | Val Acc: 87.00%\n",
      "Precision: 0.8774 | Recall: 0.8700 | F1: 0.8694\n",
      "\n",
      "Epoch 19/100\n"
     ]
    },
    {
     "name": "stderr",
     "output_type": "stream",
     "text": [
      "Training: 100%|█████████████████████████████████████████████████| 81/81 [02:51<00:00,  2.11s/it, loss=0.0303, acc=98.1]\n",
      "Validating: 100%|██████████████████████████████████████████████████████████████████████| 19/19 [00:49<00:00,  2.60s/it]\n"
     ]
    },
    {
     "name": "stdout",
     "output_type": "stream",
     "text": [
      "Train Loss: 0.0303 | Train Acc: 98.13%\n",
      "Val Loss: 0.5354 | Val Acc: 86.67%\n",
      "Precision: 0.8733 | Recall: 0.8667 | F1: 0.8661\n",
      "\n",
      "Epoch 20/100\n"
     ]
    },
    {
     "name": "stderr",
     "output_type": "stream",
     "text": [
      "Training: 100%|█████████████████████████████████████████████████| 81/81 [02:51<00:00,  2.12s/it, loss=0.0294, acc=98.1]\n",
      "Validating: 100%|██████████████████████████████████████████████████████████████████████| 19/19 [00:49<00:00,  2.61s/it]\n"
     ]
    },
    {
     "name": "stdout",
     "output_type": "stream",
     "text": [
      "Train Loss: 0.0294 | Train Acc: 98.13%\n",
      "Val Loss: 0.5446 | Val Acc: 86.33%\n",
      "Precision: 0.8670 | Recall: 0.8633 | F1: 0.8630\n",
      "\n",
      "Epoch 21/100\n"
     ]
    },
    {
     "name": "stderr",
     "output_type": "stream",
     "text": [
      "Training: 100%|█████████████████████████████████████████████████| 81/81 [02:50<00:00,  2.11s/it, loss=0.0271, acc=98.4]\n",
      "Validating: 100%|██████████████████████████████████████████████████████████████████████| 19/19 [00:49<00:00,  2.60s/it]\n"
     ]
    },
    {
     "name": "stdout",
     "output_type": "stream",
     "text": [
      "Train Loss: 0.0271 | Train Acc: 98.37%\n",
      "Val Loss: 0.5524 | Val Acc: 86.00%\n",
      "Precision: 0.8641 | Recall: 0.8600 | F1: 0.8596\n",
      "\n",
      "Epoch 22/100\n"
     ]
    },
    {
     "name": "stderr",
     "output_type": "stream",
     "text": [
      "Training: 100%|█████████████████████████████████████████████████| 81/81 [02:50<00:00,  2.11s/it, loss=0.0281, acc=98.2]\n",
      "Validating: 100%|██████████████████████████████████████████████████████████████████████| 19/19 [00:49<00:00,  2.60s/it]\n"
     ]
    },
    {
     "name": "stdout",
     "output_type": "stream",
     "text": [
      "Train Loss: 0.0281 | Train Acc: 98.21%\n",
      "Val Loss: 0.6747 | Val Acc: 87.33%\n",
      "Precision: 0.8849 | Recall: 0.8733 | F1: 0.8724\n",
      "\n",
      "Epoch 23/100\n"
     ]
    },
    {
     "name": "stderr",
     "output_type": "stream",
     "text": [
      "Training: 100%|█████████████████████████████████████████████████| 81/81 [02:52<00:00,  2.12s/it, loss=0.0284, acc=98.6]\n",
      "Validating: 100%|██████████████████████████████████████████████████████████████████████| 19/19 [00:49<00:00,  2.60s/it]\n"
     ]
    },
    {
     "name": "stdout",
     "output_type": "stream",
     "text": [
      "Train Loss: 0.0284 | Train Acc: 98.60%\n",
      "Val Loss: 0.6385 | Val Acc: 86.67%\n",
      "Precision: 0.8763 | Recall: 0.8667 | F1: 0.8658\n",
      "\n",
      "Epoch 24/100\n"
     ]
    },
    {
     "name": "stderr",
     "output_type": "stream",
     "text": [
      "Training: 100%|█████████████████████████████████████████████████| 81/81 [02:50<00:00,  2.11s/it, loss=0.0265, acc=98.4]\n",
      "Validating: 100%|██████████████████████████████████████████████████████████████████████| 19/19 [00:49<00:00,  2.58s/it]\n"
     ]
    },
    {
     "name": "stdout",
     "output_type": "stream",
     "text": [
      "Train Loss: 0.0265 | Train Acc: 98.37%\n",
      "Val Loss: 0.5708 | Val Acc: 85.67%\n",
      "Precision: 0.8613 | Recall: 0.8567 | F1: 0.8562\n",
      "\n",
      "Epoch 25/100\n"
     ]
    },
    {
     "name": "stderr",
     "output_type": "stream",
     "text": [
      "Training: 100%|█████████████████████████████████████████████████| 81/81 [02:49<00:00,  2.09s/it, loss=0.0312, acc=98.3]\n",
      "Validating: 100%|██████████████████████████████████████████████████████████████████████| 19/19 [00:48<00:00,  2.57s/it]\n"
     ]
    },
    {
     "name": "stdout",
     "output_type": "stream",
     "text": [
      "Train Loss: 0.0312 | Train Acc: 98.29%\n",
      "Val Loss: 0.7324 | Val Acc: 86.33%\n",
      "Precision: 0.8755 | Recall: 0.8633 | F1: 0.8622\n",
      "\n",
      "Epoch 26/100\n"
     ]
    },
    {
     "name": "stderr",
     "output_type": "stream",
     "text": [
      "Training: 100%|█████████████████████████████████████████████████| 81/81 [02:49<00:00,  2.09s/it, loss=0.0282, acc=98.2]\n",
      "Validating: 100%|██████████████████████████████████████████████████████████████████████| 19/19 [00:49<00:00,  2.60s/it]\n"
     ]
    },
    {
     "name": "stdout",
     "output_type": "stream",
     "text": [
      "Train Loss: 0.0282 | Train Acc: 98.21%\n",
      "Val Loss: 0.9351 | Val Acc: 83.67%\n",
      "Precision: 0.8733 | Recall: 0.8367 | F1: 0.8326\n",
      "\n",
      "Epoch 27/100\n"
     ]
    },
    {
     "name": "stderr",
     "output_type": "stream",
     "text": [
      "Training: 100%|█████████████████████████████████████████████████| 81/81 [02:48<00:00,  2.08s/it, loss=0.0267, acc=98.2]\n",
      "Validating: 100%|██████████████████████████████████████████████████████████████████████| 19/19 [00:49<00:00,  2.58s/it]\n"
     ]
    },
    {
     "name": "stdout",
     "output_type": "stream",
     "text": [
      "Train Loss: 0.0267 | Train Acc: 98.21%\n",
      "Val Loss: 0.8039 | Val Acc: 84.33%\n",
      "Precision: 0.8548 | Recall: 0.8433 | F1: 0.8421\n",
      "\n",
      "Epoch 28/100\n"
     ]
    },
    {
     "name": "stderr",
     "output_type": "stream",
     "text": [
      "Training: 100%|█████████████████████████████████████████████████| 81/81 [02:50<00:00,  2.10s/it, loss=0.0266, acc=98.6]\n",
      "Validating: 100%|██████████████████████████████████████████████████████████████████████| 19/19 [00:49<00:00,  2.58s/it]\n"
     ]
    },
    {
     "name": "stdout",
     "output_type": "stream",
     "text": [
      "Train Loss: 0.0266 | Train Acc: 98.60%\n",
      "Val Loss: 0.8405 | Val Acc: 85.00%\n",
      "Precision: 0.8617 | Recall: 0.8500 | F1: 0.8488\n",
      "\n",
      "Epoch 29/100\n"
     ]
    },
    {
     "name": "stderr",
     "output_type": "stream",
     "text": [
      "Training: 100%|█████████████████████████████████████████████████| 81/81 [02:48<00:00,  2.09s/it, loss=0.0268, acc=98.2]\n",
      "Validating: 100%|██████████████████████████████████████████████████████████████████████| 19/19 [00:49<00:00,  2.60s/it]\n"
     ]
    },
    {
     "name": "stdout",
     "output_type": "stream",
     "text": [
      "Train Loss: 0.0268 | Train Acc: 98.21%\n",
      "Val Loss: 0.8001 | Val Acc: 86.33%\n",
      "Precision: 0.8795 | Recall: 0.8633 | F1: 0.8619\n",
      "\n",
      "Epoch 30/100\n"
     ]
    },
    {
     "name": "stderr",
     "output_type": "stream",
     "text": [
      "Training: 100%|██████████████████████████████████████████████████| 81/81 [02:50<00:00,  2.10s/it, loss=0.028, acc=98.2]\n",
      "Validating: 100%|██████████████████████████████████████████████████████████████████████| 19/19 [00:49<00:00,  2.61s/it]\n"
     ]
    },
    {
     "name": "stdout",
     "output_type": "stream",
     "text": [
      "Train Loss: 0.0280 | Train Acc: 98.21%\n",
      "Val Loss: 0.8288 | Val Acc: 86.33%\n",
      "Precision: 0.8843 | Recall: 0.8633 | F1: 0.8614\n",
      "\n",
      "Epoch 31/100\n"
     ]
    },
    {
     "name": "stderr",
     "output_type": "stream",
     "text": [
      "Training: 100%|█████████████████████████████████████████████████| 81/81 [02:51<00:00,  2.12s/it, loss=0.0269, acc=98.2]\n",
      "Validating: 100%|██████████████████████████████████████████████████████████████████████| 19/19 [00:49<00:00,  2.60s/it]\n"
     ]
    },
    {
     "name": "stdout",
     "output_type": "stream",
     "text": [
      "Train Loss: 0.0269 | Train Acc: 98.21%\n",
      "Val Loss: 0.7250 | Val Acc: 85.67%\n",
      "Precision: 0.8669 | Recall: 0.8567 | F1: 0.8557\n",
      "\n",
      "Epoch 32/100\n"
     ]
    },
    {
     "name": "stderr",
     "output_type": "stream",
     "text": [
      "Training: 100%|█████████████████████████████████████████████████| 81/81 [02:49<00:00,  2.09s/it, loss=0.0278, acc=98.2]\n",
      "Validating: 100%|██████████████████████████████████████████████████████████████████████| 19/19 [00:49<00:00,  2.59s/it]\n"
     ]
    },
    {
     "name": "stdout",
     "output_type": "stream",
     "text": [
      "Train Loss: 0.0278 | Train Acc: 98.21%\n",
      "Val Loss: 0.6683 | Val Acc: 87.00%\n",
      "Precision: 0.8824 | Recall: 0.8700 | F1: 0.8689\n",
      "\n",
      "Epoch 33/100\n"
     ]
    },
    {
     "name": "stderr",
     "output_type": "stream",
     "text": [
      "Training: 100%|█████████████████████████████████████████████████| 81/81 [02:51<00:00,  2.11s/it, loss=0.0301, acc=98.1]\n",
      "Validating: 100%|██████████████████████████████████████████████████████████████████████| 19/19 [00:50<00:00,  2.64s/it]\n"
     ]
    },
    {
     "name": "stdout",
     "output_type": "stream",
     "text": [
      "Train Loss: 0.0301 | Train Acc: 98.13%\n",
      "Val Loss: 0.7295 | Val Acc: 87.33%\n",
      "Precision: 0.8868 | Recall: 0.8733 | F1: 0.8722\n",
      "\n",
      "Epoch 34/100\n"
     ]
    },
    {
     "name": "stderr",
     "output_type": "stream",
     "text": [
      "Training: 100%|███████████████████████████████████████████████████| 81/81 [02:49<00:00,  2.10s/it, loss=0.0273, acc=98]\n",
      "Validating: 100%|██████████████████████████████████████████████████████████████████████| 19/19 [00:49<00:00,  2.63s/it]\n"
     ]
    },
    {
     "name": "stdout",
     "output_type": "stream",
     "text": [
      "Train Loss: 0.0273 | Train Acc: 97.98%\n",
      "Val Loss: 0.6153 | Val Acc: 87.00%\n",
      "Precision: 0.8789 | Recall: 0.8700 | F1: 0.8692\n",
      "\n",
      "Epoch 35/100\n"
     ]
    },
    {
     "name": "stderr",
     "output_type": "stream",
     "text": [
      "Training: 100%|█████████████████████████████████████████████████| 81/81 [02:50<00:00,  2.11s/it, loss=0.0269, acc=98.4]\n",
      "Validating: 100%|██████████████████████████████████████████████████████████████████████| 19/19 [00:49<00:00,  2.62s/it]\n"
     ]
    },
    {
     "name": "stdout",
     "output_type": "stream",
     "text": [
      "Train Loss: 0.0269 | Train Acc: 98.37%\n",
      "Val Loss: 0.6362 | Val Acc: 87.67%\n",
      "Precision: 0.8874 | Recall: 0.8767 | F1: 0.8758\n",
      "\n",
      "Epoch 36/100\n"
     ]
    },
    {
     "name": "stderr",
     "output_type": "stream",
     "text": [
      "Training: 100%|█████████████████████████████████████████████████| 81/81 [02:51<00:00,  2.11s/it, loss=0.0259, acc=98.5]\n",
      "Validating: 100%|██████████████████████████████████████████████████████████████████████| 19/19 [00:49<00:00,  2.60s/it]\n"
     ]
    },
    {
     "name": "stdout",
     "output_type": "stream",
     "text": [
      "Train Loss: 0.0259 | Train Acc: 98.52%\n",
      "Val Loss: 0.6412 | Val Acc: 86.33%\n",
      "Precision: 0.8706 | Recall: 0.8633 | F1: 0.8627\n",
      "\n",
      "Epoch 37/100\n"
     ]
    },
    {
     "name": "stderr",
     "output_type": "stream",
     "text": [
      "Training: 100%|█████████████████████████████████████████████████| 81/81 [02:49<00:00,  2.09s/it, loss=0.0281, acc=98.3]\n",
      "Validating: 100%|██████████████████████████████████████████████████████████████████████| 19/19 [00:49<00:00,  2.58s/it]\n"
     ]
    },
    {
     "name": "stdout",
     "output_type": "stream",
     "text": [
      "Train Loss: 0.0281 | Train Acc: 98.29%\n",
      "Val Loss: 0.7059 | Val Acc: 87.67%\n",
      "Precision: 0.8874 | Recall: 0.8767 | F1: 0.8758\n",
      "\n",
      "Epoch 38/100\n"
     ]
    },
    {
     "name": "stderr",
     "output_type": "stream",
     "text": [
      "Training: 100%|█████████████████████████████████████████████████| 81/81 [02:51<00:00,  2.12s/it, loss=0.0279, acc=98.5]\n",
      "Validating: 100%|██████████████████████████████████████████████████████████████████████| 19/19 [00:49<00:00,  2.60s/it]\n"
     ]
    },
    {
     "name": "stdout",
     "output_type": "stream",
     "text": [
      "Train Loss: 0.0279 | Train Acc: 98.52%\n",
      "Val Loss: 0.7515 | Val Acc: 85.33%\n",
      "Precision: 0.8597 | Recall: 0.8533 | F1: 0.8527\n",
      "\n",
      "Epoch 39/100\n"
     ]
    },
    {
     "name": "stderr",
     "output_type": "stream",
     "text": [
      "Training: 100%|█████████████████████████████████████████████████| 81/81 [02:50<00:00,  2.10s/it, loss=0.0269, acc=98.1]\n",
      "Validating: 100%|██████████████████████████████████████████████████████████████████████| 19/19 [00:48<00:00,  2.57s/it]\n"
     ]
    },
    {
     "name": "stdout",
     "output_type": "stream",
     "text": [
      "Train Loss: 0.0269 | Train Acc: 98.05%\n",
      "Val Loss: 0.7359 | Val Acc: 85.00%\n",
      "Precision: 0.8535 | Recall: 0.8500 | F1: 0.8496\n",
      "\n",
      "Epoch 40/100\n"
     ]
    },
    {
     "name": "stderr",
     "output_type": "stream",
     "text": [
      "Training: 100%|█████████████████████████████████████████████████| 81/81 [02:49<00:00,  2.10s/it, loss=0.0439, acc=97.7]\n",
      "Validating: 100%|██████████████████████████████████████████████████████████████████████| 19/19 [00:49<00:00,  2.62s/it]\n"
     ]
    },
    {
     "name": "stdout",
     "output_type": "stream",
     "text": [
      "Train Loss: 0.0439 | Train Acc: 97.74%\n",
      "Val Loss: 0.7383 | Val Acc: 85.00%\n",
      "Precision: 0.8535 | Recall: 0.8500 | F1: 0.8496\n",
      "\n",
      "Epoch 41/100\n"
     ]
    },
    {
     "name": "stderr",
     "output_type": "stream",
     "text": [
      "Training: 100%|█████████████████████████████████████████████████| 81/81 [02:50<00:00,  2.10s/it, loss=0.0285, acc=98.3]\n",
      "Validating: 100%|██████████████████████████████████████████████████████████████████████| 19/19 [00:50<00:00,  2.66s/it]\n"
     ]
    },
    {
     "name": "stdout",
     "output_type": "stream",
     "text": [
      "Train Loss: 0.0285 | Train Acc: 98.29%\n",
      "Val Loss: 1.1312 | Val Acc: 80.33%\n",
      "Precision: 0.8396 | Recall: 0.8033 | F1: 0.7979\n",
      "\n",
      "Epoch 42/100\n"
     ]
    },
    {
     "name": "stderr",
     "output_type": "stream",
     "text": [
      "Training: 100%|█████████████████████████████████████████████████| 81/81 [02:51<00:00,  2.12s/it, loss=0.0272, acc=98.3]\n",
      "Validating: 100%|██████████████████████████████████████████████████████████████████████| 19/19 [00:49<00:00,  2.61s/it]\n"
     ]
    },
    {
     "name": "stdout",
     "output_type": "stream",
     "text": [
      "Train Loss: 0.0272 | Train Acc: 98.29%\n",
      "Val Loss: 1.0300 | Val Acc: 82.00%\n",
      "Precision: 0.8472 | Recall: 0.8200 | F1: 0.8164\n",
      "\n",
      "Epoch 43/100\n"
     ]
    },
    {
     "name": "stderr",
     "output_type": "stream",
     "text": [
      "Training: 100%|█████████████████████████████████████████████████| 81/81 [02:50<00:00,  2.10s/it, loss=0.0254, acc=98.6]\n",
      "Validating: 100%|██████████████████████████████████████████████████████████████████████| 19/19 [00:49<00:00,  2.61s/it]\n"
     ]
    },
    {
     "name": "stdout",
     "output_type": "stream",
     "text": [
      "Train Loss: 0.0254 | Train Acc: 98.60%\n",
      "Val Loss: 0.9137 | Val Acc: 82.33%\n",
      "Precision: 0.8468 | Recall: 0.8233 | F1: 0.8203\n",
      "\n",
      "Epoch 44/100\n"
     ]
    },
    {
     "name": "stderr",
     "output_type": "stream",
     "text": [
      "Training: 100%|█████████████████████████████████████████████████| 81/81 [02:51<00:00,  2.12s/it, loss=0.0306, acc=98.1]\n",
      "Validating: 100%|██████████████████████████████████████████████████████████████████████| 19/19 [00:49<00:00,  2.60s/it]\n"
     ]
    },
    {
     "name": "stdout",
     "output_type": "stream",
     "text": [
      "Train Loss: 0.0306 | Train Acc: 98.13%\n",
      "Val Loss: 0.7209 | Val Acc: 85.67%\n",
      "Precision: 0.8669 | Recall: 0.8567 | F1: 0.8557\n",
      "\n",
      "Epoch 45/100\n"
     ]
    },
    {
     "name": "stderr",
     "output_type": "stream",
     "text": [
      "Training: 100%|█████████████████████████████████████████████████| 81/81 [02:50<00:00,  2.11s/it, loss=0.0271, acc=98.4]\n",
      "Validating: 100%|██████████████████████████████████████████████████████████████████████| 19/19 [00:49<00:00,  2.61s/it]\n"
     ]
    },
    {
     "name": "stdout",
     "output_type": "stream",
     "text": [
      "Train Loss: 0.0271 | Train Acc: 98.44%\n",
      "Val Loss: 0.8839 | Val Acc: 84.67%\n",
      "Precision: 0.8632 | Recall: 0.8467 | F1: 0.8449\n",
      "\n",
      "Epoch 46/100\n"
     ]
    },
    {
     "name": "stderr",
     "output_type": "stream",
     "text": [
      "Training: 100%|█████████████████████████████████████████████████| 81/81 [02:49<00:00,  2.10s/it, loss=0.0285, acc=98.3]\n",
      "Validating: 100%|██████████████████████████████████████████████████████████████████████| 19/19 [00:48<00:00,  2.58s/it]\n"
     ]
    },
    {
     "name": "stdout",
     "output_type": "stream",
     "text": [
      "Train Loss: 0.0285 | Train Acc: 98.29%\n",
      "Val Loss: 0.8248 | Val Acc: 84.00%\n",
      "Precision: 0.8584 | Recall: 0.8400 | F1: 0.8379\n",
      "\n",
      "Epoch 47/100\n"
     ]
    },
    {
     "name": "stderr",
     "output_type": "stream",
     "text": [
      "Training: 100%|█████████████████████████████████████████████████| 81/81 [02:50<00:00,  2.11s/it, loss=0.0261, acc=98.1]\n",
      "Validating: 100%|██████████████████████████████████████████████████████████████████████| 19/19 [00:48<00:00,  2.58s/it]\n"
     ]
    },
    {
     "name": "stdout",
     "output_type": "stream",
     "text": [
      "Train Loss: 0.0261 | Train Acc: 98.05%\n",
      "Val Loss: 0.8205 | Val Acc: 83.67%\n",
      "Precision: 0.8561 | Recall: 0.8367 | F1: 0.8344\n",
      "\n",
      "Epoch 48/100\n"
     ]
    },
    {
     "name": "stderr",
     "output_type": "stream",
     "text": [
      "Training: 100%|███████████████████████████████████████████████████| 81/81 [02:50<00:00,  2.11s/it, loss=0.0274, acc=98]\n",
      "Validating: 100%|██████████████████████████████████████████████████████████████████████| 19/19 [00:49<00:00,  2.63s/it]\n"
     ]
    },
    {
     "name": "stdout",
     "output_type": "stream",
     "text": [
      "Train Loss: 0.0274 | Train Acc: 97.98%\n",
      "Val Loss: 1.0012 | Val Acc: 83.33%\n",
      "Precision: 0.8589 | Recall: 0.8333 | F1: 0.8303\n",
      "\n",
      "Epoch 49/100\n"
     ]
    },
    {
     "name": "stderr",
     "output_type": "stream",
     "text": [
      "Training: 100%|█████████████████████████████████████████████████| 81/81 [02:52<00:00,  2.13s/it, loss=0.0291, acc=98.6]\n",
      "Validating: 100%|██████████████████████████████████████████████████████████████████████| 19/19 [00:50<00:00,  2.64s/it]\n"
     ]
    },
    {
     "name": "stdout",
     "output_type": "stream",
     "text": [
      "Train Loss: 0.0291 | Train Acc: 98.60%\n",
      "Val Loss: 0.7501 | Val Acc: 83.67%\n",
      "Precision: 0.8561 | Recall: 0.8367 | F1: 0.8344\n",
      "\n",
      "Epoch 50/100\n"
     ]
    },
    {
     "name": "stderr",
     "output_type": "stream",
     "text": [
      "Training: 100%|█████████████████████████████████████████████████| 81/81 [02:50<00:00,  2.11s/it, loss=0.0259, acc=98.5]\n",
      "Validating: 100%|██████████████████████████████████████████████████████████████████████| 19/19 [00:49<00:00,  2.61s/it]\n"
     ]
    },
    {
     "name": "stdout",
     "output_type": "stream",
     "text": [
      "Train Loss: 0.0259 | Train Acc: 98.52%\n",
      "Val Loss: 0.8721 | Val Acc: 83.00%\n",
      "Precision: 0.8539 | Recall: 0.8300 | F1: 0.8271\n",
      "\n",
      "Epoch 51/100\n"
     ]
    },
    {
     "name": "stderr",
     "output_type": "stream",
     "text": [
      "Training: 100%|██████████████████████████████████████████████████| 81/81 [02:50<00:00,  2.10s/it, loss=0.026, acc=98.4]\n",
      "Validating: 100%|██████████████████████████████████████████████████████████████████████| 19/19 [00:49<00:00,  2.60s/it]\n"
     ]
    },
    {
     "name": "stdout",
     "output_type": "stream",
     "text": [
      "Train Loss: 0.0260 | Train Acc: 98.44%\n",
      "Val Loss: 1.0036 | Val Acc: 83.67%\n",
      "Precision: 0.8639 | Recall: 0.8367 | F1: 0.8336\n",
      "\n",
      "Epoch 52/100\n"
     ]
    },
    {
     "name": "stderr",
     "output_type": "stream",
     "text": [
      "Training: 100%|█████████████████████████████████████████████████| 81/81 [02:51<00:00,  2.12s/it, loss=0.0265, acc=98.2]\n",
      "Validating: 100%|██████████████████████████████████████████████████████████████████████| 19/19 [00:49<00:00,  2.60s/it]\n"
     ]
    },
    {
     "name": "stdout",
     "output_type": "stream",
     "text": [
      "Train Loss: 0.0265 | Train Acc: 98.21%\n",
      "Val Loss: 0.9560 | Val Acc: 83.33%\n",
      "Precision: 0.8617 | Recall: 0.8333 | F1: 0.8300\n",
      "\n",
      "Epoch 53/100\n"
     ]
    },
    {
     "name": "stderr",
     "output_type": "stream",
     "text": [
      "Training: 100%|█████████████████████████████████████████████████| 81/81 [02:50<00:00,  2.10s/it, loss=0.0265, acc=98.1]\n",
      "Validating: 100%|██████████████████████████████████████████████████████████████████████| 19/19 [00:49<00:00,  2.62s/it]\n"
     ]
    },
    {
     "name": "stdout",
     "output_type": "stream",
     "text": [
      "Train Loss: 0.0265 | Train Acc: 98.05%\n",
      "Val Loss: 0.7735 | Val Acc: 85.00%\n",
      "Precision: 0.8656 | Recall: 0.8500 | F1: 0.8484\n",
      "\n",
      "Epoch 54/100\n"
     ]
    },
    {
     "name": "stderr",
     "output_type": "stream",
     "text": [
      "Training: 100%|█████████████████████████████████████████████████| 81/81 [02:50<00:00,  2.11s/it, loss=0.0269, acc=98.4]\n",
      "Validating: 100%|██████████████████████████████████████████████████████████████████████| 19/19 [00:49<00:00,  2.60s/it]\n"
     ]
    },
    {
     "name": "stdout",
     "output_type": "stream",
     "text": [
      "Train Loss: 0.0269 | Train Acc: 98.44%\n",
      "Val Loss: 0.8310 | Val Acc: 83.67%\n",
      "Precision: 0.8561 | Recall: 0.8367 | F1: 0.8344\n",
      "\n",
      "Epoch 55/100\n"
     ]
    },
    {
     "name": "stderr",
     "output_type": "stream",
     "text": [
      "Training: 100%|█████████████████████████████████████████████████| 81/81 [02:50<00:00,  2.10s/it, loss=0.0252, acc=98.4]\n",
      "Validating: 100%|██████████████████████████████████████████████████████████████████████| 19/19 [00:50<00:00,  2.67s/it]\n"
     ]
    },
    {
     "name": "stdout",
     "output_type": "stream",
     "text": [
      "Train Loss: 0.0252 | Train Acc: 98.44%\n",
      "Val Loss: 0.8400 | Val Acc: 83.67%\n",
      "Precision: 0.8561 | Recall: 0.8367 | F1: 0.8344\n",
      "\n",
      "Epoch 56/100\n"
     ]
    },
    {
     "name": "stderr",
     "output_type": "stream",
     "text": [
      "Training: 100%|█████████████████████████████████████████████████| 81/81 [02:51<00:00,  2.11s/it, loss=0.0255, acc=98.4]\n",
      "Validating: 100%|██████████████████████████████████████████████████████████████████████| 19/19 [00:49<00:00,  2.63s/it]\n"
     ]
    },
    {
     "name": "stdout",
     "output_type": "stream",
     "text": [
      "Train Loss: 0.0255 | Train Acc: 98.37%\n",
      "Val Loss: 0.8405 | Val Acc: 84.33%\n",
      "Precision: 0.8608 | Recall: 0.8433 | F1: 0.8414\n",
      "\n",
      "Epoch 57/100\n"
     ]
    },
    {
     "name": "stderr",
     "output_type": "stream",
     "text": [
      "Training: 100%|█████████████████████████████████████████████████| 81/81 [02:52<00:00,  2.13s/it, loss=0.0268, acc=98.6]\n",
      "Validating: 100%|██████████████████████████████████████████████████████████████████████| 19/19 [00:50<00:00,  2.65s/it]\n"
     ]
    },
    {
     "name": "stdout",
     "output_type": "stream",
     "text": [
      "Train Loss: 0.0268 | Train Acc: 98.60%\n",
      "Val Loss: 0.7914 | Val Acc: 84.33%\n",
      "Precision: 0.8587 | Recall: 0.8433 | F1: 0.8416\n",
      "\n",
      "Epoch 58/100\n"
     ]
    },
    {
     "name": "stderr",
     "output_type": "stream",
     "text": [
      "Training: 100%|█████████████████████████████████████████████████| 81/81 [02:51<00:00,  2.12s/it, loss=0.0247, acc=98.3]\n",
      "Validating: 100%|██████████████████████████████████████████████████████████████████████| 19/19 [00:49<00:00,  2.60s/it]\n"
     ]
    },
    {
     "name": "stdout",
     "output_type": "stream",
     "text": [
      "Train Loss: 0.0247 | Train Acc: 98.29%\n",
      "Val Loss: 0.8530 | Val Acc: 84.00%\n",
      "Precision: 0.8562 | Recall: 0.8400 | F1: 0.8382\n",
      "\n",
      "Epoch 59/100\n"
     ]
    },
    {
     "name": "stderr",
     "output_type": "stream",
     "text": [
      "Training: 100%|█████████████████████████████████████████████████| 81/81 [02:50<00:00,  2.11s/it, loss=0.0258, acc=98.4]\n",
      "Validating: 100%|██████████████████████████████████████████████████████████████████████| 19/19 [00:48<00:00,  2.57s/it]\n"
     ]
    },
    {
     "name": "stdout",
     "output_type": "stream",
     "text": [
      "Train Loss: 0.0258 | Train Acc: 98.44%\n",
      "Val Loss: 0.8224 | Val Acc: 84.33%\n",
      "Precision: 0.8608 | Recall: 0.8433 | F1: 0.8414\n",
      "\n",
      "Epoch 60/100\n"
     ]
    },
    {
     "name": "stderr",
     "output_type": "stream",
     "text": [
      "Training: 100%|█████████████████████████████████████████████████| 81/81 [02:51<00:00,  2.11s/it, loss=0.0497, acc=98.2]\n",
      "Validating: 100%|██████████████████████████████████████████████████████████████████████| 19/19 [00:49<00:00,  2.60s/it]\n"
     ]
    },
    {
     "name": "stdout",
     "output_type": "stream",
     "text": [
      "Train Loss: 0.0497 | Train Acc: 98.21%\n",
      "Val Loss: 1.0574 | Val Acc: 84.33%\n",
      "Precision: 0.8608 | Recall: 0.8433 | F1: 0.8414\n",
      "\n",
      "Epoch 61/100\n"
     ]
    },
    {
     "name": "stderr",
     "output_type": "stream",
     "text": [
      "Training: 100%|█████████████████████████████████████████████████| 81/81 [02:51<00:00,  2.12s/it, loss=0.0319, acc=97.9]\n",
      "Validating: 100%|██████████████████████████████████████████████████████████████████████| 19/19 [00:50<00:00,  2.63s/it]\n"
     ]
    },
    {
     "name": "stdout",
     "output_type": "stream",
     "text": [
      "Train Loss: 0.0319 | Train Acc: 97.90%\n",
      "Val Loss: 0.9916 | Val Acc: 85.33%\n",
      "Precision: 0.8776 | Recall: 0.8533 | F1: 0.8509\n",
      "\n",
      "Epoch 62/100\n"
     ]
    },
    {
     "name": "stderr",
     "output_type": "stream",
     "text": [
      "Training: 100%|█████████████████████████████████████████████████| 81/81 [02:50<00:00,  2.10s/it, loss=0.0279, acc=98.4]\n",
      "Validating: 100%|██████████████████████████████████████████████████████████████████████| 19/19 [00:49<00:00,  2.59s/it]\n"
     ]
    },
    {
     "name": "stdout",
     "output_type": "stream",
     "text": [
      "Train Loss: 0.0279 | Train Acc: 98.44%\n",
      "Val Loss: 1.0725 | Val Acc: 83.00%\n",
      "Precision: 0.8394 | Recall: 0.8300 | F1: 0.8288\n",
      "\n",
      "Epoch 63/100\n"
     ]
    },
    {
     "name": "stderr",
     "output_type": "stream",
     "text": [
      "Training: 100%|█████████████████████████████████████████████████| 81/81 [02:50<00:00,  2.10s/it, loss=0.0264, acc=98.5]\n",
      "Validating: 100%|██████████████████████████████████████████████████████████████████████| 19/19 [00:49<00:00,  2.61s/it]\n"
     ]
    },
    {
     "name": "stdout",
     "output_type": "stream",
     "text": [
      "Train Loss: 0.0264 | Train Acc: 98.52%\n",
      "Val Loss: 1.0469 | Val Acc: 83.00%\n",
      "Precision: 0.8379 | Recall: 0.8300 | F1: 0.8290\n",
      "\n",
      "Epoch 64/100\n"
     ]
    },
    {
     "name": "stderr",
     "output_type": "stream",
     "text": [
      "Training: 100%|█████████████████████████████████████████████████| 81/81 [02:50<00:00,  2.10s/it, loss=0.0277, acc=98.4]\n",
      "Validating: 100%|██████████████████████████████████████████████████████████████████████| 19/19 [00:49<00:00,  2.62s/it]\n"
     ]
    },
    {
     "name": "stdout",
     "output_type": "stream",
     "text": [
      "Train Loss: 0.0277 | Train Acc: 98.44%\n",
      "Val Loss: 1.0113 | Val Acc: 83.00%\n",
      "Precision: 0.8394 | Recall: 0.8300 | F1: 0.8288\n",
      "\n",
      "Epoch 65/100\n"
     ]
    },
    {
     "name": "stderr",
     "output_type": "stream",
     "text": [
      "Training: 100%|█████████████████████████████████████████████████| 81/81 [02:54<00:00,  2.16s/it, loss=0.0261, acc=98.4]\n",
      "Validating: 100%|██████████████████████████████████████████████████████████████████████| 19/19 [00:49<00:00,  2.62s/it]\n"
     ]
    },
    {
     "name": "stdout",
     "output_type": "stream",
     "text": [
      "Train Loss: 0.0261 | Train Acc: 98.37%\n",
      "Val Loss: 1.0514 | Val Acc: 83.67%\n",
      "Precision: 0.8517 | Recall: 0.8367 | F1: 0.8349\n",
      "\n",
      "Epoch 66/100\n"
     ]
    },
    {
     "name": "stderr",
     "output_type": "stream",
     "text": [
      "Training: 100%|█████████████████████████████████████████████████| 81/81 [02:53<00:00,  2.14s/it, loss=0.0265, acc=98.3]\n",
      "Validating: 100%|██████████████████████████████████████████████████████████████████████| 19/19 [00:49<00:00,  2.62s/it]\n"
     ]
    },
    {
     "name": "stdout",
     "output_type": "stream",
     "text": [
      "Train Loss: 0.0265 | Train Acc: 98.29%\n",
      "Val Loss: 0.9923 | Val Acc: 83.67%\n",
      "Precision: 0.8517 | Recall: 0.8367 | F1: 0.8349\n",
      "\n",
      "Epoch 67/100\n"
     ]
    },
    {
     "name": "stderr",
     "output_type": "stream",
     "text": [
      "Training: 100%|█████████████████████████████████████████████████| 81/81 [02:50<00:00,  2.11s/it, loss=0.0258, acc=98.4]\n",
      "Validating: 100%|██████████████████████████████████████████████████████████████████████| 19/19 [00:49<00:00,  2.59s/it]\n"
     ]
    },
    {
     "name": "stdout",
     "output_type": "stream",
     "text": [
      "Train Loss: 0.0258 | Train Acc: 98.37%\n",
      "Val Loss: 1.0028 | Val Acc: 83.33%\n",
      "Precision: 0.8472 | Recall: 0.8333 | F1: 0.8316\n",
      "\n",
      "Epoch 68/100\n"
     ]
    },
    {
     "name": "stderr",
     "output_type": "stream",
     "text": [
      "Training: 100%|██████████████████████████████████████████████████| 81/81 [02:51<00:00,  2.12s/it, loss=0.026, acc=98.4]\n",
      "Validating: 100%|██████████████████████████████████████████████████████████████████████| 19/19 [00:50<00:00,  2.66s/it]\n"
     ]
    },
    {
     "name": "stdout",
     "output_type": "stream",
     "text": [
      "Train Loss: 0.0260 | Train Acc: 98.37%\n",
      "Val Loss: 0.9763 | Val Acc: 83.33%\n",
      "Precision: 0.8472 | Recall: 0.8333 | F1: 0.8316\n",
      "\n",
      "Epoch 69/100\n"
     ]
    },
    {
     "name": "stderr",
     "output_type": "stream",
     "text": [
      "Training: 100%|█████████████████████████████████████████████████| 81/81 [02:49<00:00,  2.10s/it, loss=0.0252, acc=98.2]\n",
      "Validating: 100%|██████████████████████████████████████████████████████████████████████| 19/19 [00:48<00:00,  2.57s/it]\n"
     ]
    },
    {
     "name": "stdout",
     "output_type": "stream",
     "text": [
      "Train Loss: 0.0252 | Train Acc: 98.21%\n",
      "Val Loss: 1.0083 | Val Acc: 83.33%\n",
      "Precision: 0.8472 | Recall: 0.8333 | F1: 0.8316\n",
      "\n",
      "Epoch 70/100\n"
     ]
    },
    {
     "name": "stderr",
     "output_type": "stream",
     "text": [
      "Training: 100%|██████████████████████████████████████████████████| 81/81 [02:51<00:00,  2.12s/it, loss=0.026, acc=98.3]\n",
      "Validating: 100%|██████████████████████████████████████████████████████████████████████| 19/19 [00:50<00:00,  2.64s/it]\n"
     ]
    },
    {
     "name": "stdout",
     "output_type": "stream",
     "text": [
      "Train Loss: 0.0260 | Train Acc: 98.29%\n",
      "Val Loss: 1.1135 | Val Acc: 84.00%\n",
      "Precision: 0.8562 | Recall: 0.8400 | F1: 0.8382\n",
      "\n",
      "Epoch 71/100\n"
     ]
    },
    {
     "name": "stderr",
     "output_type": "stream",
     "text": [
      "Training: 100%|█████████████████████████████████████████████████| 81/81 [02:51<00:00,  2.12s/it, loss=0.0263, acc=98.2]\n",
      "Validating: 100%|██████████████████████████████████████████████████████████████████████| 19/19 [00:50<00:00,  2.68s/it]\n"
     ]
    },
    {
     "name": "stdout",
     "output_type": "stream",
     "text": [
      "Train Loss: 0.0263 | Train Acc: 98.21%\n",
      "Val Loss: 1.1050 | Val Acc: 84.00%\n",
      "Precision: 0.8562 | Recall: 0.8400 | F1: 0.8382\n",
      "\n",
      "Epoch 72/100\n"
     ]
    },
    {
     "name": "stderr",
     "output_type": "stream",
     "text": [
      "Training: 100%|██████████████████████████████████████████████████| 81/81 [02:52<00:00,  2.13s/it, loss=0.027, acc=98.7]\n",
      "Validating: 100%|██████████████████████████████████████████████████████████████████████| 19/19 [00:49<00:00,  2.61s/it]\n"
     ]
    },
    {
     "name": "stdout",
     "output_type": "stream",
     "text": [
      "Train Loss: 0.0270 | Train Acc: 98.68%\n",
      "Val Loss: 0.9882 | Val Acc: 83.33%\n",
      "Precision: 0.8454 | Recall: 0.8333 | F1: 0.8319\n",
      "\n",
      "Epoch 73/100\n"
     ]
    },
    {
     "name": "stderr",
     "output_type": "stream",
     "text": [
      "Training: 100%|█████████████████████████████████████████████████| 81/81 [02:49<00:00,  2.10s/it, loss=0.0268, acc=98.4]\n",
      "Validating: 100%|██████████████████████████████████████████████████████████████████████| 19/19 [00:49<00:00,  2.59s/it]\n"
     ]
    },
    {
     "name": "stdout",
     "output_type": "stream",
     "text": [
      "Train Loss: 0.0268 | Train Acc: 98.37%\n",
      "Val Loss: 0.9388 | Val Acc: 83.00%\n",
      "Precision: 0.8394 | Recall: 0.8300 | F1: 0.8288\n",
      "\n",
      "Epoch 74/100\n"
     ]
    },
    {
     "name": "stderr",
     "output_type": "stream",
     "text": [
      "Training: 100%|█████████████████████████████████████████████████| 81/81 [02:49<00:00,  2.09s/it, loss=0.0257, acc=98.3]\n",
      "Validating: 100%|██████████████████████████████████████████████████████████████████████| 19/19 [00:48<00:00,  2.56s/it]\n"
     ]
    },
    {
     "name": "stdout",
     "output_type": "stream",
     "text": [
      "Train Loss: 0.0257 | Train Acc: 98.29%\n",
      "Val Loss: 1.0125 | Val Acc: 83.33%\n",
      "Precision: 0.8437 | Recall: 0.8333 | F1: 0.8321\n",
      "\n",
      "Epoch 75/100\n"
     ]
    },
    {
     "name": "stderr",
     "output_type": "stream",
     "text": [
      "Training: 100%|█████████████████████████████████████████████████| 81/81 [02:48<00:00,  2.08s/it, loss=0.0256, acc=98.4]\n",
      "Validating: 100%|██████████████████████████████████████████████████████████████████████| 19/19 [00:49<00:00,  2.59s/it]\n"
     ]
    },
    {
     "name": "stdout",
     "output_type": "stream",
     "text": [
      "Train Loss: 0.0256 | Train Acc: 98.37%\n",
      "Val Loss: 0.9927 | Val Acc: 83.00%\n",
      "Precision: 0.8411 | Recall: 0.8300 | F1: 0.8286\n",
      "\n",
      "Epoch 76/100\n"
     ]
    },
    {
     "name": "stderr",
     "output_type": "stream",
     "text": [
      "Training: 100%|█████████████████████████████████████████████████| 81/81 [02:50<00:00,  2.11s/it, loss=0.0262, acc=98.6]\n",
      "Validating: 100%|██████████████████████████████████████████████████████████████████████| 19/19 [00:49<00:00,  2.59s/it]\n"
     ]
    },
    {
     "name": "stdout",
     "output_type": "stream",
     "text": [
      "Train Loss: 0.0262 | Train Acc: 98.60%\n",
      "Val Loss: 1.0811 | Val Acc: 83.33%\n",
      "Precision: 0.8472 | Recall: 0.8333 | F1: 0.8316\n",
      "\n",
      "Epoch 77/100\n"
     ]
    },
    {
     "name": "stderr",
     "output_type": "stream",
     "text": [
      "Training: 100%|█████████████████████████████████████████████████| 81/81 [02:49<00:00,  2.10s/it, loss=0.0258, acc=98.5]\n",
      "Validating: 100%|██████████████████████████████████████████████████████████████████████| 19/19 [00:48<00:00,  2.56s/it]\n"
     ]
    },
    {
     "name": "stdout",
     "output_type": "stream",
     "text": [
      "Train Loss: 0.0258 | Train Acc: 98.52%\n",
      "Val Loss: 0.9723 | Val Acc: 83.33%\n",
      "Precision: 0.8472 | Recall: 0.8333 | F1: 0.8316\n",
      "\n",
      "Epoch 78/100\n"
     ]
    },
    {
     "name": "stderr",
     "output_type": "stream",
     "text": [
      "Training: 100%|█████████████████████████████████████████████████| 81/81 [02:47<00:00,  2.07s/it, loss=0.0423, acc=98.1]\n",
      "Validating: 100%|██████████████████████████████████████████████████████████████████████| 19/19 [00:48<00:00,  2.57s/it]\n"
     ]
    },
    {
     "name": "stdout",
     "output_type": "stream",
     "text": [
      "Train Loss: 0.0423 | Train Acc: 98.13%\n",
      "Val Loss: 1.1604 | Val Acc: 84.00%\n",
      "Precision: 0.8523 | Recall: 0.8400 | F1: 0.8386\n",
      "\n",
      "Epoch 79/100\n"
     ]
    },
    {
     "name": "stderr",
     "output_type": "stream",
     "text": [
      "Training: 100%|█████████████████████████████████████████████████| 81/81 [02:49<00:00,  2.09s/it, loss=0.0296, acc=98.4]\n",
      "Validating: 100%|██████████████████████████████████████████████████████████████████████| 19/19 [00:48<00:00,  2.55s/it]\n"
     ]
    },
    {
     "name": "stdout",
     "output_type": "stream",
     "text": [
      "Train Loss: 0.0296 | Train Acc: 98.44%\n",
      "Val Loss: 0.9338 | Val Acc: 84.67%\n",
      "Precision: 0.8507 | Recall: 0.8467 | F1: 0.8462\n",
      "\n",
      "Epoch 80/100\n"
     ]
    },
    {
     "name": "stderr",
     "output_type": "stream",
     "text": [
      "Training: 100%|█████████████████████████████████████████████████| 81/81 [02:51<00:00,  2.11s/it, loss=0.0267, acc=98.5]\n",
      "Validating: 100%|██████████████████████████████████████████████████████████████████████| 19/19 [00:49<00:00,  2.59s/it]\n"
     ]
    },
    {
     "name": "stdout",
     "output_type": "stream",
     "text": [
      "Train Loss: 0.0267 | Train Acc: 98.52%\n",
      "Val Loss: 1.0059 | Val Acc: 84.33%\n",
      "Precision: 0.8478 | Recall: 0.8433 | F1: 0.8428\n",
      "\n",
      "Epoch 81/100\n"
     ]
    },
    {
     "name": "stderr",
     "output_type": "stream",
     "text": [
      "Training: 100%|█████████████████████████████████████████████████| 81/81 [02:50<00:00,  2.11s/it, loss=0.0272, acc=98.2]\n",
      "Validating: 100%|██████████████████████████████████████████████████████████████████████| 19/19 [00:48<00:00,  2.56s/it]\n"
     ]
    },
    {
     "name": "stdout",
     "output_type": "stream",
     "text": [
      "Train Loss: 0.0272 | Train Acc: 98.21%\n",
      "Val Loss: 1.0451 | Val Acc: 84.33%\n",
      "Precision: 0.8478 | Recall: 0.8433 | F1: 0.8428\n",
      "\n",
      "Epoch 82/100\n"
     ]
    },
    {
     "name": "stderr",
     "output_type": "stream",
     "text": [
      "Training: 100%|█████████████████████████████████████████████████| 81/81 [02:49<00:00,  2.09s/it, loss=0.0276, acc=98.1]\n",
      "Validating: 100%|██████████████████████████████████████████████████████████████████████| 19/19 [00:48<00:00,  2.58s/it]\n"
     ]
    },
    {
     "name": "stdout",
     "output_type": "stream",
     "text": [
      "Train Loss: 0.0276 | Train Acc: 98.05%\n",
      "Val Loss: 0.9959 | Val Acc: 84.67%\n",
      "Precision: 0.8507 | Recall: 0.8467 | F1: 0.8462\n",
      "\n",
      "Epoch 83/100\n"
     ]
    },
    {
     "name": "stderr",
     "output_type": "stream",
     "text": [
      "Training: 100%|█████████████████████████████████████████████████| 81/81 [02:50<00:00,  2.10s/it, loss=0.0259, acc=98.4]\n",
      "Validating: 100%|██████████████████████████████████████████████████████████████████████| 19/19 [00:49<00:00,  2.60s/it]\n"
     ]
    },
    {
     "name": "stdout",
     "output_type": "stream",
     "text": [
      "Train Loss: 0.0259 | Train Acc: 98.44%\n",
      "Val Loss: 0.9474 | Val Acc: 85.00%\n",
      "Precision: 0.8535 | Recall: 0.8500 | F1: 0.8496\n",
      "\n",
      "Epoch 84/100\n"
     ]
    },
    {
     "name": "stderr",
     "output_type": "stream",
     "text": [
      "Training: 100%|█████████████████████████████████████████████████| 81/81 [02:54<00:00,  2.16s/it, loss=0.0256, acc=98.3]\n",
      "Validating: 100%|██████████████████████████████████████████████████████████████████████| 19/19 [00:52<00:00,  2.75s/it]\n"
     ]
    },
    {
     "name": "stdout",
     "output_type": "stream",
     "text": [
      "Train Loss: 0.0256 | Train Acc: 98.29%\n",
      "Val Loss: 1.0085 | Val Acc: 84.00%\n",
      "Precision: 0.8450 | Recall: 0.8400 | F1: 0.8394\n",
      "\n",
      "Epoch 85/100\n"
     ]
    },
    {
     "name": "stderr",
     "output_type": "stream",
     "text": [
      "Training: 100%|██████████████████████████████████████████████████| 81/81 [02:58<00:00,  2.21s/it, loss=0.025, acc=98.4]\n",
      "Validating: 100%|██████████████████████████████████████████████████████████████████████| 19/19 [00:54<00:00,  2.85s/it]\n"
     ]
    },
    {
     "name": "stdout",
     "output_type": "stream",
     "text": [
      "Train Loss: 0.0250 | Train Acc: 98.44%\n",
      "Val Loss: 1.0552 | Val Acc: 84.00%\n",
      "Precision: 0.8450 | Recall: 0.8400 | F1: 0.8394\n",
      "\n",
      "Epoch 86/100\n"
     ]
    },
    {
     "name": "stderr",
     "output_type": "stream",
     "text": [
      "Training: 100%|█████████████████████████████████████████████████| 81/81 [02:59<00:00,  2.22s/it, loss=0.0263, acc=98.4]\n",
      "Validating: 100%|██████████████████████████████████████████████████████████████████████| 19/19 [00:52<00:00,  2.75s/it]\n"
     ]
    },
    {
     "name": "stdout",
     "output_type": "stream",
     "text": [
      "Train Loss: 0.0263 | Train Acc: 98.37%\n",
      "Val Loss: 1.0898 | Val Acc: 84.67%\n",
      "Precision: 0.8529 | Recall: 0.8467 | F1: 0.8460\n",
      "\n",
      "Epoch 87/100\n"
     ]
    },
    {
     "name": "stderr",
     "output_type": "stream",
     "text": [
      "Training: 100%|█████████████████████████████████████████████████| 81/81 [02:58<00:00,  2.21s/it, loss=0.0258, acc=98.2]\n",
      "Validating: 100%|██████████████████████████████████████████████████████████████████████| 19/19 [00:53<00:00,  2.83s/it]\n"
     ]
    },
    {
     "name": "stdout",
     "output_type": "stream",
     "text": [
      "Train Loss: 0.0258 | Train Acc: 98.21%\n",
      "Val Loss: 1.0568 | Val Acc: 84.67%\n",
      "Precision: 0.8529 | Recall: 0.8467 | F1: 0.8460\n",
      "\n",
      "Epoch 88/100\n"
     ]
    },
    {
     "name": "stderr",
     "output_type": "stream",
     "text": [
      "Training: 100%|█████████████████████████████████████████████████| 81/81 [02:53<00:00,  2.14s/it, loss=0.0257, acc=98.6]\n",
      "Validating: 100%|██████████████████████████████████████████████████████████████████████| 19/19 [00:49<00:00,  2.62s/it]\n"
     ]
    },
    {
     "name": "stdout",
     "output_type": "stream",
     "text": [
      "Train Loss: 0.0257 | Train Acc: 98.60%\n",
      "Val Loss: 1.0139 | Val Acc: 84.33%\n",
      "Precision: 0.8489 | Recall: 0.8433 | F1: 0.8427\n",
      "\n",
      "Epoch 89/100\n"
     ]
    },
    {
     "name": "stderr",
     "output_type": "stream",
     "text": [
      "Training: 100%|██████████████████████████████████████████████████| 81/81 [02:52<00:00,  2.12s/it, loss=0.026, acc=98.6]\n",
      "Validating: 100%|██████████████████████████████████████████████████████████████████████| 19/19 [00:51<00:00,  2.69s/it]\n"
     ]
    },
    {
     "name": "stdout",
     "output_type": "stream",
     "text": [
      "Train Loss: 0.0260 | Train Acc: 98.60%\n",
      "Val Loss: 1.0670 | Val Acc: 84.00%\n",
      "Precision: 0.8450 | Recall: 0.8400 | F1: 0.8394\n",
      "\n",
      "Epoch 90/100\n"
     ]
    },
    {
     "name": "stderr",
     "output_type": "stream",
     "text": [
      "Training: 100%|██████████████████████████████████████████████████| 81/81 [02:57<00:00,  2.19s/it, loss=0.026, acc=98.1]\n",
      "Validating: 100%|██████████████████████████████████████████████████████████████████████| 19/19 [00:51<00:00,  2.72s/it]\n"
     ]
    },
    {
     "name": "stdout",
     "output_type": "stream",
     "text": [
      "Train Loss: 0.0260 | Train Acc: 98.13%\n",
      "Val Loss: 0.9341 | Val Acc: 84.67%\n",
      "Precision: 0.8507 | Recall: 0.8467 | F1: 0.8462\n",
      "\n",
      "Epoch 91/100\n"
     ]
    },
    {
     "name": "stderr",
     "output_type": "stream",
     "text": [
      "Training: 100%|█████████████████████████████████████████████████| 81/81 [02:53<00:00,  2.15s/it, loss=0.0256, acc=98.5]\n",
      "Validating: 100%|██████████████████████████████████████████████████████████████████████| 19/19 [00:50<00:00,  2.64s/it]\n"
     ]
    },
    {
     "name": "stdout",
     "output_type": "stream",
     "text": [
      "Train Loss: 0.0256 | Train Acc: 98.52%\n",
      "Val Loss: 1.0248 | Val Acc: 84.67%\n",
      "Precision: 0.8529 | Recall: 0.8467 | F1: 0.8460\n",
      "\n",
      "Epoch 92/100\n"
     ]
    },
    {
     "name": "stderr",
     "output_type": "stream",
     "text": [
      "Training: 100%|█████████████████████████████████████████████████| 81/81 [02:53<00:00,  2.14s/it, loss=0.0248, acc=98.6]\n",
      "Validating: 100%|██████████████████████████████████████████████████████████████████████| 19/19 [00:50<00:00,  2.67s/it]\n"
     ]
    },
    {
     "name": "stdout",
     "output_type": "stream",
     "text": [
      "Train Loss: 0.0248 | Train Acc: 98.60%\n",
      "Val Loss: 1.0926 | Val Acc: 84.67%\n",
      "Precision: 0.8529 | Recall: 0.8467 | F1: 0.8460\n",
      "\n",
      "Epoch 93/100\n"
     ]
    },
    {
     "name": "stderr",
     "output_type": "stream",
     "text": [
      "Training: 100%|█████████████████████████████████████████████████| 81/81 [02:52<00:00,  2.12s/it, loss=0.0277, acc=98.5]\n",
      "Validating: 100%|██████████████████████████████████████████████████████████████████████| 19/19 [00:49<00:00,  2.61s/it]\n"
     ]
    },
    {
     "name": "stdout",
     "output_type": "stream",
     "text": [
      "Train Loss: 0.0277 | Train Acc: 98.52%\n",
      "Val Loss: 1.0433 | Val Acc: 84.67%\n",
      "Precision: 0.8529 | Recall: 0.8467 | F1: 0.8460\n",
      "\n",
      "Epoch 94/100\n"
     ]
    },
    {
     "name": "stderr",
     "output_type": "stream",
     "text": [
      "Training: 100%|█████████████████████████████████████████████████| 81/81 [02:55<00:00,  2.16s/it, loss=0.0276, acc=98.1]\n",
      "Validating: 100%|██████████████████████████████████████████████████████████████████████| 19/19 [00:50<00:00,  2.68s/it]\n"
     ]
    },
    {
     "name": "stdout",
     "output_type": "stream",
     "text": [
      "Train Loss: 0.0276 | Train Acc: 98.13%\n",
      "Val Loss: 1.0789 | Val Acc: 85.33%\n",
      "Precision: 0.8585 | Recall: 0.8533 | F1: 0.8528\n",
      "\n",
      "Epoch 95/100\n"
     ]
    },
    {
     "name": "stderr",
     "output_type": "stream",
     "text": [
      "Training: 100%|█████████████████████████████████████████████████| 81/81 [02:53<00:00,  2.14s/it, loss=0.0263, acc=98.2]\n",
      "Validating: 100%|██████████████████████████████████████████████████████████████████████| 19/19 [00:52<00:00,  2.78s/it]\n"
     ]
    },
    {
     "name": "stdout",
     "output_type": "stream",
     "text": [
      "Train Loss: 0.0263 | Train Acc: 98.21%\n",
      "Val Loss: 0.8790 | Val Acc: 87.33%\n",
      "Precision: 0.8744 | Recall: 0.8733 | F1: 0.8732\n",
      "\n",
      "Epoch 96/100\n"
     ]
    },
    {
     "name": "stderr",
     "output_type": "stream",
     "text": [
      "Training: 100%|██████████████████████████████████████████████████| 81/81 [02:54<00:00,  2.15s/it, loss=0.025, acc=98.4]\n",
      "Validating: 100%|██████████████████████████████████████████████████████████████████████| 19/19 [00:50<00:00,  2.68s/it]\n"
     ]
    },
    {
     "name": "stdout",
     "output_type": "stream",
     "text": [
      "Train Loss: 0.0250 | Train Acc: 98.37%\n",
      "Val Loss: 0.8708 | Val Acc: 87.00%\n",
      "Precision: 0.8708 | Recall: 0.8700 | F1: 0.8699\n",
      "\n",
      "Epoch 97/100\n"
     ]
    },
    {
     "name": "stderr",
     "output_type": "stream",
     "text": [
      "Training: 100%|█████████████████████████████████████████████████| 81/81 [02:54<00:00,  2.15s/it, loss=0.0256, acc=98.3]\n",
      "Validating: 100%|██████████████████████████████████████████████████████████████████████| 19/19 [00:50<00:00,  2.68s/it]\n"
     ]
    },
    {
     "name": "stdout",
     "output_type": "stream",
     "text": [
      "Train Loss: 0.0256 | Train Acc: 98.29%\n",
      "Val Loss: 0.8483 | Val Acc: 86.67%\n",
      "Precision: 0.8699 | Recall: 0.8667 | F1: 0.8664\n",
      "\n",
      "Epoch 98/100\n"
     ]
    },
    {
     "name": "stderr",
     "output_type": "stream",
     "text": [
      "Training: 100%|█████████████████████████████████████████████████| 81/81 [02:54<00:00,  2.15s/it, loss=0.0256, acc=98.4]\n",
      "Validating: 100%|██████████████████████████████████████████████████████████████████████| 19/19 [00:49<00:00,  2.62s/it]\n"
     ]
    },
    {
     "name": "stdout",
     "output_type": "stream",
     "text": [
      "Train Loss: 0.0256 | Train Acc: 98.44%\n",
      "Val Loss: 1.0099 | Val Acc: 86.33%\n",
      "Precision: 0.8721 | Recall: 0.8633 | F1: 0.8625\n",
      "\n",
      "Epoch 99/100\n"
     ]
    },
    {
     "name": "stderr",
     "output_type": "stream",
     "text": [
      "Training: 100%|█████████████████████████████████████████████████| 81/81 [02:56<00:00,  2.18s/it, loss=0.0256, acc=98.4]\n",
      "Validating: 100%|██████████████████████████████████████████████████████████████████████| 19/19 [00:51<00:00,  2.72s/it]\n"
     ]
    },
    {
     "name": "stdout",
     "output_type": "stream",
     "text": [
      "Train Loss: 0.0256 | Train Acc: 98.44%\n",
      "Val Loss: 0.8380 | Val Acc: 87.67%\n",
      "Precision: 0.8816 | Recall: 0.8767 | F1: 0.8763\n",
      "\n",
      "Epoch 100/100\n"
     ]
    },
    {
     "name": "stderr",
     "output_type": "stream",
     "text": [
      "Training: 100%|██████████████████████████████████████████████████| 81/81 [02:52<00:00,  2.13s/it, loss=0.025, acc=98.4]\n",
      "Validating: 100%|██████████████████████████████████████████████████████████████████████| 19/19 [00:50<00:00,  2.65s/it]\n"
     ]
    },
    {
     "name": "stdout",
     "output_type": "stream",
     "text": [
      "Train Loss: 0.0250 | Train Acc: 98.44%\n",
      "Val Loss: 0.8220 | Val Acc: 87.67%\n",
      "Precision: 0.8816 | Recall: 0.8767 | F1: 0.8763\n",
      "\n",
      "Generating visualization plots...\n",
      "All plots have been saved in the 'plots' directory\n"
     ]
    }
   ],
   "source": [
    "import os\n",
    "import random\n",
    "import numpy as np\n",
    "import matplotlib.pyplot as plt\n",
    "import seaborn as sns\n",
    "import torch\n",
    "import torch.nn as nn\n",
    "import torchvision.transforms as transforms\n",
    "from torch.utils.data import DataLoader\n",
    "from torchvision.datasets import ImageFolder\n",
    "from transformers import ViTForImageClassification, ViTImageProcessor\n",
    "from tqdm import tqdm\n",
    "from sklearn.metrics import (\n",
    "    accuracy_score, precision_score, recall_score, f1_score,\n",
    "    confusion_matrix, roc_curve, auc\n",
    ")\n",
    "\n",
    "# Configuration\n",
    "CONFIG = {\n",
    "    'seed': 42,\n",
    "    'model_name': \"google/vit-base-patch16-224\",\n",
    "    'batch_size': 16,\n",
    "    'num_epochs': 100,\n",
    "    'learning_rate': 1e-5,  # Lowered learning rate for fine-tuning\n",
    "    'weight_decay': 1e-2,\n",
    "    'train_dir': '/Users/user/Desktop/project/image/train2',\n",
    "    'val_dir': '/Users/user/Desktop/project/image/vaildation2',  # Update these paths to your actual paths\n",
    "    'pretrained_weights': 'vit.pth',\n",
    "    'new_checkpoint_path': 'vit_continued.pth'\n",
    "}\n",
    "\n",
    "def set_seed(seed=42):\n",
    "    \"\"\"Set random seeds for reproducibility\"\"\"\n",
    "    random.seed(seed)\n",
    "    np.random.seed(seed)\n",
    "    torch.manual_seed(seed)\n",
    "    if torch.cuda.is_available():\n",
    "        torch.cuda.manual_seed_all(seed)\n",
    "        torch.backends.cudnn.deterministic = True\n",
    "        torch.backends.cudnn.benchmark = False\n",
    "\n",
    "def load_pretrained_model(model, weights_path, device):\n",
    "    \"\"\"Load pretrained weights into model\"\"\"\n",
    "    if not os.path.exists(weights_path):\n",
    "        print(f\"Warning: Weights file {weights_path} not found!\")\n",
    "        return model, 0\n",
    "        \n",
    "    try:\n",
    "        checkpoint = torch.load(weights_path, map_location=device)\n",
    "        \n",
    "        if isinstance(checkpoint, dict) and 'model_state_dict' in checkpoint:\n",
    "            model.load_state_dict(checkpoint['model_state_dict'])\n",
    "            start_epoch = checkpoint.get('epoch', 0) + 1\n",
    "            print(f\"Loaded checkpoint from epoch {start_epoch-1}\")\n",
    "        else:\n",
    "            model.load_state_dict(checkpoint)\n",
    "            start_epoch = 0\n",
    "            print(\"Loaded model weights\")\n",
    "            \n",
    "        print(f\"Successfully loaded weights from {weights_path}\")\n",
    "        return model, start_epoch\n",
    "    except Exception as e:\n",
    "        print(f\"Error loading weights: {e}\")\n",
    "        print(\"Starting with fresh model\")\n",
    "        return model, 0\n",
    "\n",
    "def plot_training_curves(train_losses, val_losses, train_accuracies, val_accuracies, save_dir='./plots'):\n",
    "    \"\"\"Plot training and validation loss/accuracy curves\"\"\"\n",
    "    os.makedirs(save_dir, exist_ok=True)\n",
    "    \n",
    "    # Plot Loss Curves\n",
    "    plt.figure(figsize=(10, 5))\n",
    "    plt.plot(train_losses, label='Training Loss')\n",
    "    plt.plot(val_losses, label='Validation Loss')\n",
    "    plt.title('Loss Curves')\n",
    "    plt.xlabel('Epoch')\n",
    "    plt.ylabel('Loss')\n",
    "    plt.legend()\n",
    "    plt.grid(True)\n",
    "    plt.savefig(os.path.join(save_dir, 'loss_curves.png'))\n",
    "    plt.close()\n",
    "    \n",
    "    # Plot Accuracy Curves\n",
    "    plt.figure(figsize=(10, 5))\n",
    "    plt.plot(train_accuracies, label='Training Accuracy')\n",
    "    plt.plot(val_accuracies, label='Validation Accuracy')\n",
    "    plt.title('Accuracy Curves')\n",
    "    plt.xlabel('Epoch')\n",
    "    plt.ylabel('Accuracy')\n",
    "    plt.legend()\n",
    "    plt.grid(True)\n",
    "    plt.savefig(os.path.join(save_dir, 'accuracy_curves.png'))\n",
    "    plt.close()\n",
    "\n",
    "def plot_confusion_matrix(y_true, y_pred, save_dir='./plots'):\n",
    "    \"\"\"Plot confusion matrix\"\"\"\n",
    "    os.makedirs(save_dir, exist_ok=True)\n",
    "    \n",
    "    cm = confusion_matrix(y_true, y_pred)\n",
    "    plt.figure(figsize=(10, 8))\n",
    "    sns.heatmap(cm, annot=True, fmt='d', cmap='Blues')\n",
    "    plt.title('Confusion Matrix')\n",
    "    plt.ylabel('True Label')\n",
    "    plt.xlabel('Predicted Label')\n",
    "    plt.savefig(os.path.join(save_dir, 'confusion_matrix.png'))\n",
    "    plt.close()\n",
    "\n",
    "def plot_roc_curve(y_true, y_prob, save_dir='./plots'):\n",
    "    \"\"\"Plot ROC curve\"\"\"\n",
    "    os.makedirs(save_dir, exist_ok=True)\n",
    "    \n",
    "    fpr, tpr, _ = roc_curve(y_true, y_prob)\n",
    "    roc_auc = auc(fpr, tpr)\n",
    "    \n",
    "    plt.figure(figsize=(10, 8))\n",
    "    plt.plot(fpr, tpr, color='darkorange', lw=2, label=f'ROC curve (AUC = {roc_auc:.2f})')\n",
    "    plt.plot([0, 1], [0, 1], color='navy', lw=2, linestyle='--')\n",
    "    plt.xlim([0.0, 1.0])\n",
    "    plt.ylim([0.0, 1.05])\n",
    "    plt.xlabel('False Positive Rate')\n",
    "    plt.ylabel('True Positive Rate')\n",
    "    plt.title('Receiver Operating Characteristic (ROC) Curve')\n",
    "    plt.legend(loc=\"lower right\")\n",
    "    plt.grid(True)\n",
    "    plt.savefig(os.path.join(save_dir, 'roc_curve.png'))\n",
    "    plt.close()\n",
    "\n",
    "def plot_performance_metrics(precisions, recalls, f1_scores, save_dir='./plots'):\n",
    "    \"\"\"Plot performance metrics over epochs\"\"\"\n",
    "    os.makedirs(save_dir, exist_ok=True)\n",
    "    \n",
    "    epochs = range(1, len(precisions) + 1)\n",
    "    \n",
    "    plt.figure(figsize=(12, 6))\n",
    "    plt.plot(epochs, precisions, 'b-', label='Precision')\n",
    "    plt.plot(epochs, recalls, 'r-', label='Recall')\n",
    "    plt.plot(epochs, f1_scores, 'g-', label='F1-Score')\n",
    "    plt.title('Performance Metrics Over Time')\n",
    "    plt.xlabel('Epoch')\n",
    "    plt.ylabel('Score')\n",
    "    plt.legend()\n",
    "    plt.grid(True)\n",
    "    plt.savefig(os.path.join(save_dir, 'performance_metrics.png'))\n",
    "    plt.close()\n",
    "\n",
    "def train_one_epoch(model, train_loader, optimizer, criterion, device):\n",
    "    \"\"\"Train for one epoch\"\"\"\n",
    "    model.train()\n",
    "    total_loss = 0\n",
    "    correct = 0\n",
    "    total = 0\n",
    "    \n",
    "    progress_bar = tqdm(train_loader, desc=\"Training\")\n",
    "    for batch_idx, (data, targets) in enumerate(progress_bar):\n",
    "        data, targets = data.to(device), targets.to(device)\n",
    "        \n",
    "        optimizer.zero_grad()\n",
    "        outputs = model(data)\n",
    "        loss = criterion(outputs.logits, targets)\n",
    "        \n",
    "        loss.backward()\n",
    "        optimizer.step()\n",
    "        \n",
    "        total_loss += loss.item()\n",
    "        _, predicted = outputs.logits.max(1)\n",
    "        total += targets.size(0)\n",
    "        correct += predicted.eq(targets).sum().item()\n",
    "        \n",
    "        # Update progress bar\n",
    "        progress_bar.set_postfix({\n",
    "            'loss': total_loss/(batch_idx+1),\n",
    "            'acc': 100.*correct/total\n",
    "        })\n",
    "    \n",
    "    return total_loss/len(train_loader), correct/total\n",
    "\n",
    "def validate_with_predictions(model, val_loader, criterion, device):\n",
    "    \"\"\"Validation function that returns predictions and probabilities\"\"\"\n",
    "    model.eval()\n",
    "    total_loss = 0\n",
    "    all_predictions = []\n",
    "    all_targets = []\n",
    "    all_probabilities = []\n",
    "    \n",
    "    with torch.no_grad():\n",
    "        for data, targets in tqdm(val_loader, desc=\"Validating\"):\n",
    "            data, targets = data.to(device), targets.to(device)\n",
    "            outputs = model(data)\n",
    "            loss = criterion(outputs.logits, targets)\n",
    "            \n",
    "            total_loss += loss.item()\n",
    "            probabilities = torch.softmax(outputs.logits, dim=1)\n",
    "            _, predicted = outputs.logits.max(1)\n",
    "            \n",
    "            all_predictions.extend(predicted.cpu().numpy())\n",
    "            all_targets.extend(targets.cpu().numpy())\n",
    "            all_probabilities.extend(probabilities[:, 1].cpu().numpy())\n",
    "    \n",
    "    # Calculate metrics\n",
    "    accuracy = accuracy_score(all_targets, all_predictions)\n",
    "    precision = precision_score(all_targets, all_predictions, average='weighted', zero_division=0)\n",
    "    recall = recall_score(all_targets, all_predictions, average='weighted', zero_division=0)\n",
    "    f1 = f1_score(all_targets, all_predictions, average='weighted', zero_division=0)\n",
    "    \n",
    "    return (total_loss/len(val_loader), accuracy, precision, recall, f1, \n",
    "            all_targets, all_predictions, all_probabilities)\n",
    "\n",
    "def main():\n",
    "    # Set random seed and device\n",
    "    set_seed(CONFIG['seed'])\n",
    "    device = torch.device(\"cuda\" if torch.cuda.is_available() else \"cpu\")\n",
    "    print(f\"Using device: {device}\")\n",
    "    \n",
    "    try:\n",
    "        # Initialize model\n",
    "        print(\"Initializing model...\")\n",
    "        model = ViTForImageClassification.from_pretrained(\n",
    "            CONFIG['model_name'],\n",
    "            num_labels=2,\n",
    "            ignore_mismatched_sizes=True\n",
    "        )\n",
    "        \n",
    "        # Custom classifier head\n",
    "        model.classifier = nn.Sequential(\n",
    "            nn.Linear(model.config.hidden_size, 1024),\n",
    "            nn.BatchNorm1d(1024),\n",
    "            nn.ReLU(),\n",
    "            nn.Dropout(0.3),\n",
    "            nn.Linear(1024, 512),\n",
    "            nn.BatchNorm1d(512),\n",
    "            nn.ReLU(),\n",
    "            nn.Dropout(0.2),\n",
    "            nn.Linear(512, 2)\n",
    "        )\n",
    "        \n",
    "        # Load pre-trained weights\n",
    "        print(\"Loading pre-trained weights...\")\n",
    "        model, start_epoch = load_pretrained_model(model, CONFIG['pretrained_weights'], device)\n",
    "        model.to(device)\n",
    "        \n",
    "        # Data transforms\n",
    "        train_transform = transforms.Compose([\n",
    "            transforms.Resize((224, 224)),\n",
    "            transforms.RandomHorizontalFlip(),\n",
    "            transforms.ToTensor(),\n",
    "            transforms.Normalize(mean=[0.485, 0.456, 0.406], std=[0.229, 0.224, 0.225])\n",
    "        ])\n",
    "        \n",
    "        val_transform = transforms.Compose([\n",
    "            transforms.Resize((224, 224)),\n",
    "            transforms.ToTensor(),\n",
    "            transforms.Normalize(mean=[0.485, 0.456, 0.406], std=[0.229, 0.224, 0.225])\n",
    "        ])\n",
    "        \n",
    "        # Load datasets\n",
    "        print(\"Loading datasets...\")\n",
    "        train_dataset = ImageFolder(CONFIG['train_dir'], transform=train_transform)\n",
    "        val_dataset = ImageFolder(CONFIG['val_dir'], transform=val_transform)\n",
    "        \n",
    "        print(f\"Number of training samples: {len(train_dataset)}\")\n",
    "        print(f\"Number of validation samples: {len(val_dataset)}\")\n",
    "        \n",
    "        train_loader = DataLoader(\n",
    "            train_dataset, \n",
    "            batch_size=CONFIG['batch_size'], \n",
    "            shuffle=True, \n",
    "            num_workers=0\n",
    "        )\n",
    "        val_loader = DataLoader(\n",
    "            val_dataset, \n",
    "            batch_size=CONFIG['batch_size'], \n",
    "            shuffle=False, \n",
    "            num_workers=0\n",
    "        )\n",
    "        \n",
    "        # Initialize optimizer and criterion\n",
    "        optimizer = torch.optim.AdamW(\n",
    "            model.parameters(),\n",
    "            lr=CONFIG['learning_rate'],\n",
    "            weight_decay=CONFIG['weight_decay']\n",
    "        )\n",
    "        criterion = nn.CrossEntropyLoss()\n",
    "        \n",
    "        # Training metrics storage\n",
    "        train_losses = []\n",
    "        val_losses = []\n",
    "        train_accuracies = []\n",
    "        val_accuracies = []\n",
    "        precisions = []\n",
    "        recalls = []\n",
    "        f1_scores = []\n",
    "        best_val_accuracy = 0\n",
    "        \n",
    "        print(\"Starting training...\")\n",
    "        for epoch in range(start_epoch, CONFIG['num_epochs']):\n",
    "            print(f\"\\nEpoch {epoch+1}/{CONFIG['num_epochs']}\")\n",
    "            \n",
    "            # Train\n",
    "            train_loss, train_acc = train_one_epoch(model, train_loader, optimizer, criterion, device)\n",
    "            \n",
    "            # Validate with predictions\n",
    "            (val_loss, val_acc, precision, recall, f1,\n",
    "             targets, predictions, probabilities) = validate_with_predictions(\n",
    "                model, val_loader, criterion, device\n",
    "            )\n",
    "            \n",
    "            # Store metrics\n",
    "            train_losses.append(train_loss)\n",
    "            val_losses.append(val_loss)\n",
    "            train_accuracies.append(train_acc)\n",
    "            val_accuracies.append(val_acc)\n",
    "            precisions.append(precision)\n",
    "            recalls.append(recall)\n",
    "            f1_scores.append(f1)\n",
    "            \n",
    "            print(f\"Train Loss: {train_loss:.4f} | Train Acc: {train_acc*100:.2f}%\")\n",
    "            print(f\"Val Loss: {val_loss:.4f} | Val Acc: {val_acc*100:.2f}%\")\n",
    "            print(f\"Precision: {precision:.4f} | Recall: {recall:.4f} | F1: {f1:.4f}\")\n",
    "            \n",
    "            # Save best model\n",
    "            if val_acc > best_val_accuracy:\n",
    "                best_val_accuracy = val_acc\n",
    "                print(f\"Saving best model with validation accuracy: {val_acc*100:.2f}%\")\n",
    "                torch.save({\n",
    "                    'epoch': epoch,\n",
    "                    'model_state_dict': model.state_dict(),\n",
    "                    'optimizer_state_dict': optimizer.state_dict(),\n",
    "                    'val_accuracy': val_acc,\n",
    "                }, CONFIG['new_checkpoint_path'])\n",
    "        \n",
    "        # Plot all visualizations\n",
    "        print(\"\\nGenerating visualization plots...\")\n",
    "        plot_training_curves(train_losses, val_losses, train_accuracies, val_accuracies)\n",
    "        plot_confusion_matrix(targets, predictions)\n",
    "        plot_roc_curve(targets, probabilities)\n",
    "        plot_performance_metrics(precisions, recalls, f1_scores)\n",
    "        print(\"All plots have been saved in the 'plots' directory\")\n",
    "        \n",
    "    except Exception as e:\n",
    "        print(f\"An error occurred: {str(e)}\")\n",
    "        import traceback\n",
    "        print(traceback.format_exc())\n",
    "\n",
    "if __name__ == \"__main__\":\n",
    "    main()"
   ]
  },
  {
   "cell_type": "code",
   "execution_count": null,
   "id": "f894d26d-00ad-44e8-84a7-664642b19c21",
   "metadata": {},
   "outputs": [],
   "source": []
  }
 ],
 "metadata": {
  "kernelspec": {
   "display_name": "Python 3 (ipykernel)",
   "language": "python",
   "name": "python3"
  },
  "language_info": {
   "codemirror_mode": {
    "name": "ipython",
    "version": 3
   },
   "file_extension": ".py",
   "mimetype": "text/x-python",
   "name": "python",
   "nbconvert_exporter": "python",
   "pygments_lexer": "ipython3",
   "version": "3.8.19"
  }
 },
 "nbformat": 4,
 "nbformat_minor": 5
}
